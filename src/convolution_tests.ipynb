{
 "cells": [
  {
   "cell_type": "code",
   "execution_count": 1,
   "metadata": {},
   "outputs": [
    {
     "name": "stderr",
     "output_type": "stream",
     "text": [
      "c:\\Users\\stanl\\ml_0\\src\\modular_network.py:175: SyntaxWarning: invalid escape sequence '\\p'\n",
      "  \"\"\"Return the vector of partial derivatives \\partial C_x /\n"
     ]
    }
   ],
   "source": [
    "from components import *\n",
    "import modular_network\n",
    "import mnist_loader, fashion_mnist_loader\n",
    "import matplotlib.pyplot as plt\n",
    "import numpy as np\n",
    "import scipy.signal as sci"
   ]
  },
  {
   "cell_type": "code",
   "execution_count": 2,
   "metadata": {},
   "outputs": [],
   "source": [
    "mnist_train, mnist_val, mnist_test = mnist_loader.load_data_wrapper(\"../data/mnist.pkl.gz\")"
   ]
  },
  {
   "cell_type": "code",
   "execution_count": 8,
   "metadata": {},
   "outputs": [],
   "source": [
    "n_train = len(mnist_train)\n",
    "reg = L2Regularization(3.125 / n_train)\n",
    "\n",
    "net = modular_network.Network([\n",
    "    Flatten((28, 28)),\n",
    "    FullyConnected(28*28, 30, tanh(), reg),\n",
    "    FullyConnected(30, 30, tanh(), reg),\n",
    "    FullyConnected(30, 10, Softmax(), reg)\n",
    "])\n",
    "\n",
    "aug = RandUniformAug(-0.2, 0.2)\n",
    "optim = RMSProp_optimizer(0.005, 20, 0.99)\n",
    "cost = BinaryCrossEntropyCost()\n",
    "\n",
    "net.set_cost(cost)\n",
    "net.set_optimizer(optim)"
   ]
  },
  {
   "cell_type": "code",
   "execution_count": 9,
   "metadata": {},
   "outputs": [
    {
     "data": {
      "text/plain": [
       "3.9272620903826407"
      ]
     },
     "execution_count": 9,
     "metadata": {},
     "output_type": "execute_result"
    }
   ],
   "source": [
    "net.total_cost(mnist_val, convert=True)"
   ]
  },
  {
   "cell_type": "code",
   "execution_count": 10,
   "metadata": {},
   "outputs": [
    {
     "name": "stdout",
     "output_type": "stream",
     "text": [
      "Epoch 1 training complete, took 3.91731858253479 seconds\n",
      "Cost on training data: 0.5373081587472794\n",
      "Cost on test data: 0.4990322248120944\n",
      "Epoch 2 training complete, took 4.225666046142578 seconds\n",
      "Cost on training data: 0.39593891634212114\n",
      "Cost on test data: 0.3704049816125326\n",
      "Epoch 3 training complete, took 4.725420236587524 seconds\n",
      "Cost on training data: 0.329431451296019\n",
      "Cost on test data: 0.3223100057079051\n",
      "Epoch 4 training complete, took 5.142902374267578 seconds\n",
      "Cost on training data: 0.2908456991436957\n",
      "Cost on test data: 0.28307700225240146\n",
      "Epoch 5 training complete, took 3.836658239364624 seconds\n",
      "Cost on training data: 0.2849043532573612\n",
      "Cost on test data: 0.26057523982634173\n",
      "Epoch 6 training complete, took 3.0221314430236816 seconds\n",
      "Cost on training data: 0.23363752244983071\n",
      "Cost on test data: 0.24378220768894598\n",
      "Epoch 7 training complete, took 3.7658298015594482 seconds\n",
      "Cost on training data: 0.22426843927673462\n",
      "Cost on test data: 0.2280706603556259\n",
      "Epoch 8 training complete, took 3.717209577560425 seconds\n",
      "Cost on training data: 0.21307250149980006\n",
      "Cost on test data: 0.2210759741317002\n",
      "Epoch 9 training complete, took 3.3310749530792236 seconds\n",
      "Cost on training data: 0.19630650865518778\n",
      "Cost on test data: 0.2142239288164978\n",
      "Epoch 10 training complete, took 3.1606922149658203 seconds\n",
      "Cost on training data: 0.1922922662956007\n",
      "Cost on test data: 0.20559543750337395\n"
     ]
    }
   ],
   "source": [
    "net.SGD(mnist_train, 10, 20, mnist_val, data_augmentation = aug,\n",
    "        monitor_test_acc = False, \n",
    "        monitor_training_acc = False, \n",
    "        monitor_test_cost = True,\n",
    "        monitor_training_cost = True)\n"
   ]
  },
  {
   "cell_type": "code",
   "execution_count": 5,
   "metadata": {},
   "outputs": [
    {
     "data": {
      "text/plain": [
       "9627"
      ]
     },
     "execution_count": 5,
     "metadata": {},
     "output_type": "execute_result"
    }
   ],
   "source": [
    "net.accuracy(mnist_val)"
   ]
  },
  {
   "cell_type": "code",
   "execution_count": 2,
   "metadata": {},
   "outputs": [
    {
     "data": {
      "text/plain": [
       "[array([[ 1.15087322,  0.2711855 ,  0.94330052],\n",
       "        [ 0.7157369 ,  0.99645804,  0.64358079],\n",
       "        [-1.52420191,  0.03319994, -2.30591487]]),\n",
       " array([[-0.1169909 , -1.16578894,  1.57365906, -1.9165633 ],\n",
       "        [-0.79053042,  0.93550861,  0.74873665, -0.24794584],\n",
       "        [ 0.32512932,  0.88960256,  1.58809548, -0.27043898],\n",
       "        [-1.6186538 , -0.87640242, -0.63250046, -0.64393382]])]"
      ]
     },
     "execution_count": 2,
     "metadata": {},
     "output_type": "execute_result"
    }
   ],
   "source": [
    "rms = RMSProp_optimizer(0.01, 20, 0.99).get_optimizer()\n",
    "input = [np.random.randn(3, 3), np.random.randn(4, 4)]\n",
    "input"
   ]
  },
  {
   "cell_type": "code",
   "execution_count": 3,
   "metadata": {},
   "outputs": [
    {
     "data": {
      "text/plain": [
       "[array([[-0.005     , -0.00499998, -0.00499999],\n",
       "        [-0.00499999, -0.00499999, -0.00499999],\n",
       "        [ 0.005     , -0.00499985,  0.005     ]]),\n",
       " array([[ 0.00499996,  0.005     , -0.005     ,  0.005     ],\n",
       "        [ 0.00499999, -0.00499999, -0.00499999,  0.00499998],\n",
       "        [-0.00499998, -0.00499999, -0.005     ,  0.00499998],\n",
       "        [ 0.005     ,  0.00499999,  0.00499999,  0.00499999]])]"
      ]
     },
     "execution_count": 3,
     "metadata": {},
     "output_type": "execute_result"
    }
   ],
   "source": [
    "rms.fn(input)"
   ]
  },
  {
   "cell_type": "code",
   "execution_count": 22,
   "metadata": {},
   "outputs": [
    {
     "data": {
      "text/plain": [
       "array([[[-0.21869192, -0.23254391, -2.27962388],\n",
       "        [ 0.08344929,  0.78463752, -0.74189054],\n",
       "        [-0.64628094,  1.3278494 , -0.947856  ]],\n",
       "\n",
       "       [[ 0.38075061,  0.75688869,  0.09261711],\n",
       "        [ 0.02464451, -0.25923592, -0.44713224],\n",
       "        [-0.75302967, -1.68949572,  0.43627887]],\n",
       "\n",
       "       [[-0.99103836,  0.04714269,  0.45869039],\n",
       "        [-0.67288642,  2.38686903,  0.78682668],\n",
       "        [ 0.65850009, -0.75026401, -0.57102234]],\n",
       "\n",
       "       [[-1.6290546 , -0.18751622,  1.14737057],\n",
       "        [-0.56355261,  0.57596367,  0.05922633],\n",
       "        [-0.47149435,  0.41524469, -0.07668399]]])"
      ]
     },
     "execution_count": 22,
     "metadata": {},
     "output_type": "execute_result"
    }
   ],
   "source": [
    "# Flattening tests\n",
    "f = Flatten((3, 3))\n",
    "x = np.random.randn(4, 3, 3)\n",
    "x"
   ]
  },
  {
   "cell_type": "code",
   "execution_count": 23,
   "metadata": {},
   "outputs": [
    {
     "data": {
      "text/plain": [
       "array([[-0.21869192,  0.38075061, -0.99103836, -1.6290546 ],\n",
       "       [-0.23254391,  0.75688869,  0.04714269, -0.18751622],\n",
       "       [-2.27962388,  0.09261711,  0.45869039,  1.14737057],\n",
       "       [ 0.08344929,  0.02464451, -0.67288642, -0.56355261],\n",
       "       [ 0.78463752, -0.25923592,  2.38686903,  0.57596367],\n",
       "       [-0.74189054, -0.44713224,  0.78682668,  0.05922633],\n",
       "       [-0.64628094, -0.75302967,  0.65850009, -0.47149435],\n",
       "       [ 1.3278494 , -1.68949572, -0.75026401,  0.41524469],\n",
       "       [-0.947856  ,  0.43627887, -0.57102234, -0.07668399]])"
      ]
     },
     "execution_count": 23,
     "metadata": {},
     "output_type": "execute_result"
    }
   ],
   "source": [
    "y = f.feedforward(x)\n",
    "y"
   ]
  },
  {
   "cell_type": "code",
   "execution_count": 24,
   "metadata": {},
   "outputs": [
    {
     "data": {
      "text/plain": [
       "array([[[ True,  True,  True],\n",
       "        [ True,  True,  True],\n",
       "        [ True,  True,  True]],\n",
       "\n",
       "       [[ True,  True,  True],\n",
       "        [ True,  True,  True],\n",
       "        [ True,  True,  True]],\n",
       "\n",
       "       [[ True,  True,  True],\n",
       "        [ True,  True,  True],\n",
       "        [ True,  True,  True]],\n",
       "\n",
       "       [[ True,  True,  True],\n",
       "        [ True,  True,  True],\n",
       "        [ True,  True,  True]]])"
      ]
     },
     "execution_count": 24,
     "metadata": {},
     "output_type": "execute_result"
    }
   ],
   "source": [
    "f.backprop(y) == x"
   ]
  },
  {
   "cell_type": "code",
   "execution_count": 25,
   "metadata": {},
   "outputs": [],
   "source": [
    "C, H, W = 2, 5 ,5\n",
    "h_f, w_f = 2, 2\n",
    "F = 3\n",
    "M = 1"
   ]
  },
  {
   "cell_type": "code",
   "execution_count": 26,
   "metadata": {},
   "outputs": [],
   "source": [
    "def approx_eq(a, b):\n",
    "    return np.all(np.abs(a - b) < 1e-6)"
   ]
  },
  {
   "cell_type": "code",
   "execution_count": 27,
   "metadata": {},
   "outputs": [],
   "source": [
    "Hp = H - h_f + 1\n",
    "Wp = W - w_f + 1\n",
    "\n",
    "conv = Convolution((C, H, W), (h_f, w_f), F, noActivation())\n",
    "x = np.random.randn(M, C, H, W)\n",
    "\n",
    "x_fwd = conv.feedforward(x)\n",
    "assert x_fwd.shape == (M, F, Hp, Wp)"
   ]
  },
  {
   "cell_type": "code",
   "execution_count": 28,
   "metadata": {},
   "outputs": [],
   "source": [
    "def test_feedforward(m_test, f_test):\n",
    "    sum = np.zeros((Hp, Wp))\n",
    "    for c in range(C):\n",
    "        img = x[m_test, c] \n",
    "        filter = conv.filters[f_test, c] # first filter, channel c\n",
    "        sum += sci.correlate(img, filter, mode=\"valid\")\n",
    "    sum += conv.biases[f_test]\n",
    "    \n",
    "    assert approx_eq(x_fwd[m_test, f_test], sum)\n",
    "\n",
    "for m in range(M):\n",
    "    for f in range(F):\n",
    "        test_feedforward(m, f)"
   ]
  },
  {
   "cell_type": "code",
   "execution_count": 30,
   "metadata": {},
   "outputs": [],
   "source": [
    "delta = np.random.randn(M, F, Hp, Wp)\n",
    "conv.set_optimizer(SGD_optimizer(0, 20).get_optimizer())\n",
    "conv.set_mode(Mode.TRAIN)\n",
    "prev_delta = conv.backprop(delta)\n",
    "assert prev_delta.shape == (M, C, H, W)"
   ]
  },
  {
   "cell_type": "code",
   "execution_count": 7,
   "metadata": {},
   "outputs": [
    {
     "data": {
      "text/plain": [
       "'c:\\\\Users\\\\stanl\\\\ml_0\\\\src'"
      ]
     },
     "execution_count": 7,
     "metadata": {},
     "output_type": "execute_result"
    }
   ],
   "source": [
    "import os\n",
    "os.getcwd()"
   ]
  },
  {
   "cell_type": "code",
   "execution_count": 7,
   "metadata": {},
   "outputs": [],
   "source": [
    "import mnist_loader\n",
    "\n",
    "training_data, validation_data, test_data = mnist_loader.load_data_wrapper(\"../data/mnist.pkl.gz\")\n",
    "n_train = len(training_data)"
   ]
  },
  {
   "cell_type": "code",
   "execution_count": null,
   "metadata": {},
   "outputs": [],
   "source": [
    "\n",
    "reg = L2Regularization(3.125 / n_train)\n",
    "net = modular_network.Network([\n",
    "    Flatten((28, 28)),\n",
    "    FullyConnected(28*28, 100, tanh(), reg),\n",
    "    FullyConnected(100, 100, tanh(), reg),\n",
    "    FullyConnected(100, 10, Softmax(), reg)\n",
    "], cost = BinaryCrossEntropyCost())"
   ]
  },
  {
   "cell_type": "code",
   "execution_count": 11,
   "metadata": {},
   "outputs": [],
   "source": [
    "optim = SGD_momentum_optimizer(0.005, 20, 0.95)\n",
    "net.set_optimizer(optim)"
   ]
  },
  {
   "cell_type": "code",
   "execution_count": 12,
   "metadata": {},
   "outputs": [
    {
     "name": "stdout",
     "output_type": "stream",
     "text": [
      "Epoch 1 training complete, took 8.810375213623047 seconds\n",
      "Accuracy on test data: 8499 / 10000\n",
      "Epoch 2 training complete, took 10.75200080871582 seconds\n",
      "Accuracy on test data: 8888 / 10000\n",
      "Epoch 3 training complete, took 11.614086151123047 seconds\n",
      "Accuracy on test data: 9004 / 10000\n",
      "Epoch 4 training complete, took 10.764673948287964 seconds\n",
      "Accuracy on test data: 9083 / 10000\n",
      "Epoch 5 training complete, took 10.091623544692993 seconds\n",
      "Accuracy on test data: 9139 / 10000\n",
      "Epoch 6 training complete, took 10.063230276107788 seconds\n",
      "Accuracy on test data: 9195 / 10000\n",
      "Epoch 7 training complete, took 10.265061140060425 seconds\n",
      "Accuracy on test data: 9228 / 10000\n",
      "Epoch 8 training complete, took 10.179511308670044 seconds\n",
      "Accuracy on test data: 9264 / 10000\n",
      "Epoch 9 training complete, took 10.100712776184082 seconds\n",
      "Accuracy on test data: 9288 / 10000\n",
      "Epoch 10 training complete, took 10.1143798828125 seconds\n",
      "Accuracy on test data: 9325 / 10000\n"
     ]
    }
   ],
   "source": [
    "net.SGD(training_data, 10, 20, test_data, \n",
    "        monitor_training_acc=False, \n",
    "        monitor_test_acc=True,\n",
    "        )"
   ]
  },
  {
   "cell_type": "code",
   "execution_count": 2,
   "metadata": {},
   "outputs": [
    {
     "ename": "NameError",
     "evalue": "name 'net' is not defined",
     "output_type": "error",
     "traceback": [
      "\u001b[1;31m---------------------------------------------------------------------------\u001b[0m",
      "\u001b[1;31mNameError\u001b[0m                                 Traceback (most recent call last)",
      "Cell \u001b[1;32mIn[2], line 2\u001b[0m\n\u001b[0;32m      1\u001b[0m \u001b[38;5;28;01mimport\u001b[39;00m\u001b[38;5;250m \u001b[39m\u001b[38;5;21;01mmatplotlib\u001b[39;00m\u001b[38;5;21;01m.\u001b[39;00m\u001b[38;5;21;01mpyplot\u001b[39;00m\u001b[38;5;250m \u001b[39m\u001b[38;5;28;01mas\u001b[39;00m\u001b[38;5;250m \u001b[39m\u001b[38;5;21;01mplt\u001b[39;00m\n\u001b[1;32m----> 2\u001b[0m plt\u001b[38;5;241m.\u001b[39mhist(\u001b[43mnet\u001b[49m\u001b[38;5;241m.\u001b[39mlayers[\u001b[38;5;241m1\u001b[39m]\u001b[38;5;241m.\u001b[39mweights, bins\u001b[38;5;241m=\u001b[39m\u001b[38;5;241m40\u001b[39m, histtype\u001b[38;5;241m=\u001b[39m\u001b[38;5;124m\"\u001b[39m\u001b[38;5;124mbarstacked\u001b[39m\u001b[38;5;124m\"\u001b[39m)\n\u001b[0;32m      3\u001b[0m plt\u001b[38;5;241m.\u001b[39mshow()\n",
      "\u001b[1;31mNameError\u001b[0m: name 'net' is not defined"
     ]
    }
   ],
   "source": [
    "plt.hist(net.layers[1].weights, bins=40, histtype=\"barstacked\")\n",
    "plt.show()"
   ]
  },
  {
   "cell_type": "code",
   "execution_count": 3,
   "metadata": {},
   "outputs": [
    {
     "ename": "NameError",
     "evalue": "name 'net' is not defined",
     "output_type": "error",
     "traceback": [
      "\u001b[1;31m---------------------------------------------------------------------------\u001b[0m",
      "\u001b[1;31mNameError\u001b[0m                                 Traceback (most recent call last)",
      "Cell \u001b[1;32mIn[3], line 1\u001b[0m\n\u001b[1;32m----> 1\u001b[0m plt\u001b[38;5;241m.\u001b[39mhist(\u001b[43mnet\u001b[49m\u001b[38;5;241m.\u001b[39mlayers[\u001b[38;5;241m2\u001b[39m]\u001b[38;5;241m.\u001b[39mweights, bins\u001b[38;5;241m=\u001b[39m\u001b[38;5;241m40\u001b[39m, histtype\u001b[38;5;241m=\u001b[39m\u001b[38;5;124m\"\u001b[39m\u001b[38;5;124mbarstacked\u001b[39m\u001b[38;5;124m\"\u001b[39m)\n\u001b[0;32m      2\u001b[0m plt\u001b[38;5;241m.\u001b[39mshow()\n",
      "\u001b[1;31mNameError\u001b[0m: name 'net' is not defined"
     ]
    }
   ],
   "source": [
    "plt.hist(net.layers[2].weights, bins=40, histtype=\"barstacked\")\n",
    "plt.show()"
   ]
  },
  {
   "cell_type": "code",
   "execution_count": null,
   "metadata": {},
   "outputs": [
    {
     "ename": "NameError",
     "evalue": "name 'net' is not defined",
     "output_type": "error",
     "traceback": [
      "\u001b[1;31m---------------------------------------------------------------------------\u001b[0m",
      "\u001b[1;31mNameError\u001b[0m                                 Traceback (most recent call last)",
      "Cell \u001b[1;32mIn[2], line 1\u001b[0m\n\u001b[1;32m----> 1\u001b[0m plt\u001b[38;5;241m.\u001b[39mhist(\u001b[43mnet\u001b[49m\u001b[38;5;241m.\u001b[39mlayers[\u001b[38;5;241m3\u001b[39m]\u001b[38;5;241m.\u001b[39mweights, bins\u001b[38;5;241m=\u001b[39m\u001b[38;5;241m20\u001b[39m, histtype\u001b[38;5;241m=\u001b[39m\u001b[38;5;124m\"\u001b[39m\u001b[38;5;124mbarstacked\u001b[39m\u001b[38;5;124m\"\u001b[39m, color\u001b[38;5;241m=\u001b[39m\u001b[38;5;124m\"\u001b[39m\u001b[38;5;124mskyblue\u001b[39m\u001b[38;5;124m\"\u001b[39m)\n\u001b[0;32m      2\u001b[0m plt\u001b[38;5;241m.\u001b[39mshow()\n",
      "\u001b[1;31mNameError\u001b[0m: name 'net' is not defined"
     ]
    }
   ],
   "source": [
    "plt.hist(net.layers[3].weights, bins=20, histtype=\"barstacked\")\n",
    "plt.show()"
   ]
  },
  {
   "cell_type": "code",
   "execution_count": 36,
   "metadata": {},
   "outputs": [],
   "source": [
    "conv_net = modular_network.Network([\n",
    "    Convolution((28, 28), (5, 5), 4, clippedReLU(), correct2Dinput = True), # --> (4, 24, 24)\n",
    "    MaxPool((4, 24, 24)),\n",
    "    Flatten((4, 12, 12)),\n",
    "    FullyConnected(4*12*12, 50, tanh(), reg),\n",
    "    FullyConnected(50, 50, tanh(), reg),\n",
    "    FullyConnected(50, 10, Softmax(), reg)\n",
    "], cost = BinaryCrossEntropyCost())"
   ]
  },
  {
   "cell_type": "code",
   "execution_count": 38,
   "metadata": {},
   "outputs": [],
   "source": [
    "conv_net.set_optimizer(optim)"
   ]
  },
  {
   "cell_type": "code",
   "execution_count": 40,
   "metadata": {},
   "outputs": [
    {
     "name": "stdout",
     "output_type": "stream",
     "text": [
      "Epoch 1 training complete, took 127.47853779792786 seconds\n",
      "Accuracy on test data: 8244 / 10000\n",
      "Epoch 2 training complete, took 117.76653528213501 seconds\n",
      "Accuracy on test data: 8885 / 10000\n",
      "Epoch 3 training complete, took 114.35406827926636 seconds\n",
      "Accuracy on test data: 9205 / 10000\n",
      "Epoch 4 training complete, took 113.9613664150238 seconds\n",
      "Accuracy on test data: 9298 / 10000\n",
      "Epoch 5 training complete, took 116.41659283638 seconds\n",
      "Accuracy on test data: 9408 / 10000\n",
      "Epoch 6 training complete, took 118.58836197853088 seconds\n",
      "Accuracy on test data: 9451 / 10000\n",
      "Epoch 7 training complete, took 116.20689702033997 seconds\n",
      "Accuracy on test data: 9474 / 10000\n",
      "Epoch 8 training complete, took 117.52172923088074 seconds\n",
      "Accuracy on test data: 9509 / 10000\n",
      "Epoch 9 training complete, took 112.60206413269043 seconds\n",
      "Accuracy on test data: 9541 / 10000\n",
      "Epoch 10 training complete, took 115.30504941940308 seconds\n",
      "Accuracy on test data: 9568 / 10000\n"
     ]
    }
   ],
   "source": [
    "conv_net.SGD(training_data, 10, 20, test_data, \n",
    "        monitor_training_acc=False, \n",
    "        monitor_test_acc=True,\n",
    "        )"
   ]
  },
  {
   "cell_type": "code",
   "execution_count": 41,
   "metadata": {},
   "outputs": [
    {
     "name": "stdout",
     "output_type": "stream",
     "text": [
      "Epoch 1 training complete, took 107.77238893508911 seconds\n",
      "Accuracy on test data: 9612 / 10000\n",
      "Epoch 2 training complete, took 109.33832836151123 seconds\n",
      "Accuracy on test data: 9624 / 10000\n",
      "Epoch 3 training complete, took 108.12757968902588 seconds\n",
      "Accuracy on test data: 9631 / 10000\n",
      "Epoch 4 training complete, took 108.9686119556427 seconds\n",
      "Accuracy on test data: 9657 / 10000\n",
      "Epoch 5 training complete, took 112.16818690299988 seconds\n",
      "Accuracy on test data: 9611 / 10000\n"
     ]
    },
    {
     "ename": "KeyboardInterrupt",
     "evalue": "",
     "output_type": "error",
     "traceback": [
      "\u001b[1;31m---------------------------------------------------------------------------\u001b[0m",
      "\u001b[1;31mKeyboardInterrupt\u001b[0m                         Traceback (most recent call last)",
      "Cell \u001b[1;32mIn[41], line 1\u001b[0m\n\u001b[1;32m----> 1\u001b[0m \u001b[43mconv_net\u001b[49m\u001b[38;5;241;43m.\u001b[39;49m\u001b[43mSGD\u001b[49m\u001b[43m(\u001b[49m\u001b[43mtraining_data\u001b[49m\u001b[43m,\u001b[49m\u001b[43m \u001b[49m\u001b[38;5;241;43m10\u001b[39;49m\u001b[43m,\u001b[49m\u001b[43m \u001b[49m\u001b[38;5;241;43m20\u001b[39;49m\u001b[43m,\u001b[49m\u001b[43m \u001b[49m\u001b[43mtest_data\u001b[49m\u001b[43m,\u001b[49m\u001b[43m \u001b[49m\n\u001b[0;32m      2\u001b[0m \u001b[43m        \u001b[49m\u001b[43mmonitor_training_acc\u001b[49m\u001b[38;5;241;43m=\u001b[39;49m\u001b[38;5;28;43;01mFalse\u001b[39;49;00m\u001b[43m,\u001b[49m\u001b[43m \u001b[49m\n\u001b[0;32m      3\u001b[0m \u001b[43m        \u001b[49m\u001b[43mmonitor_test_acc\u001b[49m\u001b[38;5;241;43m=\u001b[39;49m\u001b[38;5;28;43;01mTrue\u001b[39;49;00m\u001b[43m,\u001b[49m\n\u001b[0;32m      4\u001b[0m \u001b[43m        \u001b[49m\u001b[43m)\u001b[49m\n",
      "File \u001b[1;32mc:\\Users\\stanl\\ml_0\\src\\modular_network.py:81\u001b[0m, in \u001b[0;36mNetwork.SGD\u001b[1;34m(self, training_data, epochs, mini_batch_size, test_data, monitor_test_cost, monitor_test_acc, monitor_training_cost, monitor_training_acc)\u001b[0m\n\u001b[0;32m     76\u001b[0m mini_batches \u001b[38;5;241m=\u001b[39m [\n\u001b[0;32m     77\u001b[0m     training_data[k:k\u001b[38;5;241m+\u001b[39mmini_batch_size]\n\u001b[0;32m     78\u001b[0m     \u001b[38;5;28;01mfor\u001b[39;00m k \u001b[38;5;129;01min\u001b[39;00m \u001b[38;5;28mrange\u001b[39m(\u001b[38;5;241m0\u001b[39m, n, mini_batch_size)]\n\u001b[0;32m     80\u001b[0m \u001b[38;5;28;01mfor\u001b[39;00m mini_batch \u001b[38;5;129;01min\u001b[39;00m mini_batches:\n\u001b[1;32m---> 81\u001b[0m     \u001b[38;5;28;43mself\u001b[39;49m\u001b[38;5;241;43m.\u001b[39;49m\u001b[43mupdate_mini_batch\u001b[49m\u001b[43m(\u001b[49m\u001b[43mmini_batch\u001b[49m\u001b[43m,\u001b[49m\u001b[43m \u001b[49m\u001b[38;5;28;43mlen\u001b[39;49m\u001b[43m(\u001b[49m\u001b[43mtraining_data\u001b[49m\u001b[43m)\u001b[49m\u001b[43m)\u001b[49m\n\u001b[0;32m     83\u001b[0m time2 \u001b[38;5;241m=\u001b[39m time\u001b[38;5;241m.\u001b[39mtime()\n\u001b[0;32m     85\u001b[0m \u001b[38;5;28mprint\u001b[39m(\u001b[38;5;124mf\u001b[39m\u001b[38;5;124m\"\u001b[39m\u001b[38;5;124mEpoch \u001b[39m\u001b[38;5;132;01m{\u001b[39;00mj\u001b[38;5;241m+\u001b[39m\u001b[38;5;241m1\u001b[39m\u001b[38;5;132;01m}\u001b[39;00m\u001b[38;5;124m training complete, took \u001b[39m\u001b[38;5;132;01m{\u001b[39;00mtime2\u001b[38;5;250m \u001b[39m\u001b[38;5;241m-\u001b[39m\u001b[38;5;250m \u001b[39mtime1\u001b[38;5;132;01m}\u001b[39;00m\u001b[38;5;124m seconds\u001b[39m\u001b[38;5;124m\"\u001b[39m)\n",
      "File \u001b[1;32mc:\\Users\\stanl\\ml_0\\src\\modular_network.py:48\u001b[0m, in \u001b[0;36mNetwork.update_mini_batch\u001b[1;34m(self, mini_batch, n)\u001b[0m\n\u001b[0;32m     46\u001b[0m delta \u001b[38;5;241m=\u001b[39m \u001b[38;5;28mself\u001b[39m\u001b[38;5;241m.\u001b[39mcost\u001b[38;5;241m.\u001b[39mderivative(a_L, Y)\n\u001b[0;32m     47\u001b[0m \u001b[38;5;66;03m# backprop\u001b[39;00m\n\u001b[1;32m---> 48\u001b[0m \u001b[38;5;28;43mself\u001b[39;49m\u001b[38;5;241;43m.\u001b[39;49m\u001b[43mbackprop\u001b[49m\u001b[43m(\u001b[49m\u001b[43mdelta\u001b[49m\u001b[43m)\u001b[49m\n",
      "File \u001b[1;32mc:\\Users\\stanl\\ml_0\\src\\modular_network.py:30\u001b[0m, in \u001b[0;36mNetwork.backprop\u001b[1;34m(self, delta)\u001b[0m\n\u001b[0;32m     28\u001b[0m \u001b[38;5;28;01mdef\u001b[39;00m\u001b[38;5;250m \u001b[39m\u001b[38;5;21mbackprop\u001b[39m(\u001b[38;5;28mself\u001b[39m, delta):\n\u001b[0;32m     29\u001b[0m     \u001b[38;5;28;01mfor\u001b[39;00m layer \u001b[38;5;129;01min\u001b[39;00m \u001b[38;5;28mreversed\u001b[39m(\u001b[38;5;28mself\u001b[39m\u001b[38;5;241m.\u001b[39mlayers):\n\u001b[1;32m---> 30\u001b[0m         delta \u001b[38;5;241m=\u001b[39m \u001b[43mlayer\u001b[49m\u001b[38;5;241;43m.\u001b[39;49m\u001b[43mbackprop\u001b[49m\u001b[43m(\u001b[49m\u001b[43mdelta\u001b[49m\u001b[43m)\u001b[49m\n",
      "File \u001b[1;32mc:\\Users\\stanl\\ml_0\\src\\components\\layers.py:93\u001b[0m, in \u001b[0;36mConvolution.backprop\u001b[1;34m(self, delta)\u001b[0m\n\u001b[0;32m     91\u001b[0m         filter_R \u001b[38;5;241m=\u001b[39m np\u001b[38;5;241m.\u001b[39mflip(\u001b[38;5;28mself\u001b[39m\u001b[38;5;241m.\u001b[39mfilters[f], axis\u001b[38;5;241m=\u001b[39m(\u001b[38;5;241m1\u001b[39m, \u001b[38;5;241m2\u001b[39m)) \u001b[38;5;66;03m# (C, h_f, w_f) flipped across h_f,w_f\u001b[39;00m\n\u001b[0;32m     92\u001b[0m         \u001b[38;5;66;03m# (C, h_f, w_f) full_corr (1, Hp, Wp) --> (C, H, W)\u001b[39;00m\n\u001b[1;32m---> 93\u001b[0m         prev_delta_m \u001b[38;5;241m+\u001b[39m\u001b[38;5;241m=\u001b[39m \u001b[43msci\u001b[49m\u001b[38;5;241;43m.\u001b[39;49m\u001b[43mcorrelate\u001b[49m\u001b[43m(\u001b[49m\u001b[43mfilter_R\u001b[49m\u001b[43m,\u001b[49m\u001b[43m \u001b[49m\u001b[43mdelta_bar\u001b[49m\u001b[43m[\u001b[49m\u001b[43mm_i\u001b[49m\u001b[43m,\u001b[49m\u001b[43m \u001b[49m\u001b[43mf\u001b[49m\u001b[43m]\u001b[49m\u001b[43m,\u001b[49m\u001b[43m \u001b[49m\u001b[43mmode\u001b[49m\u001b[38;5;241;43m=\u001b[39;49m\u001b[38;5;124;43m\"\u001b[39;49m\u001b[38;5;124;43mfull\u001b[39;49m\u001b[38;5;124;43m\"\u001b[39;49m\u001b[43m)\u001b[49m\n\u001b[0;32m     94\u001b[0m     prev_delta[m_i] \u001b[38;5;241m=\u001b[39m prev_delta_m\n\u001b[0;32m     96\u001b[0m \u001b[38;5;66;03m# dL/dk_f \u001b[39;00m\n",
      "File \u001b[1;32mc:\\Users\\stanl\\AppData\\Local\\Programs\\Python\\Python312\\Lib\\site-packages\\scipy\\signal\\_signaltools.py:265\u001b[0m, in \u001b[0;36mcorrelate\u001b[1;34m(in1, in2, mode, method)\u001b[0m\n\u001b[0;32m    263\u001b[0m \u001b[38;5;66;03m# this either calls fftconvolve or this function with method=='direct'\u001b[39;00m\n\u001b[0;32m    264\u001b[0m \u001b[38;5;28;01mif\u001b[39;00m method \u001b[38;5;129;01min\u001b[39;00m (\u001b[38;5;124m'\u001b[39m\u001b[38;5;124mfft\u001b[39m\u001b[38;5;124m'\u001b[39m, \u001b[38;5;124m'\u001b[39m\u001b[38;5;124mauto\u001b[39m\u001b[38;5;124m'\u001b[39m):\n\u001b[1;32m--> 265\u001b[0m     \u001b[38;5;28;01mreturn\u001b[39;00m \u001b[43mconvolve\u001b[49m\u001b[43m(\u001b[49m\u001b[43min1\u001b[49m\u001b[43m,\u001b[49m\u001b[43m \u001b[49m\u001b[43m_reverse_and_conj\u001b[49m\u001b[43m(\u001b[49m\u001b[43min2\u001b[49m\u001b[43m)\u001b[49m\u001b[43m,\u001b[49m\u001b[43m \u001b[49m\u001b[43mmode\u001b[49m\u001b[43m,\u001b[49m\u001b[43m \u001b[49m\u001b[43mmethod\u001b[49m\u001b[43m)\u001b[49m\n\u001b[0;32m    267\u001b[0m \u001b[38;5;28;01melif\u001b[39;00m method \u001b[38;5;241m==\u001b[39m \u001b[38;5;124m'\u001b[39m\u001b[38;5;124mdirect\u001b[39m\u001b[38;5;124m'\u001b[39m:\n\u001b[0;32m    268\u001b[0m     \u001b[38;5;66;03m# fastpath to faster numpy.correlate for 1d inputs when possible\u001b[39;00m\n\u001b[0;32m    269\u001b[0m     \u001b[38;5;28;01mif\u001b[39;00m _np_conv_ok(in1, in2, mode):\n",
      "File \u001b[1;32mc:\\Users\\stanl\\AppData\\Local\\Programs\\Python\\Python312\\Lib\\site-packages\\scipy\\signal\\_signaltools.py:1445\u001b[0m, in \u001b[0;36mconvolve\u001b[1;34m(in1, in2, mode, method)\u001b[0m\n\u001b[0;32m   1442\u001b[0m     method \u001b[38;5;241m=\u001b[39m choose_conv_method(volume, kernel, mode\u001b[38;5;241m=\u001b[39mmode)\n\u001b[0;32m   1444\u001b[0m \u001b[38;5;28;01mif\u001b[39;00m method \u001b[38;5;241m==\u001b[39m \u001b[38;5;124m'\u001b[39m\u001b[38;5;124mfft\u001b[39m\u001b[38;5;124m'\u001b[39m:\n\u001b[1;32m-> 1445\u001b[0m     out \u001b[38;5;241m=\u001b[39m \u001b[43mfftconvolve\u001b[49m\u001b[43m(\u001b[49m\u001b[43mvolume\u001b[49m\u001b[43m,\u001b[49m\u001b[43m \u001b[49m\u001b[43mkernel\u001b[49m\u001b[43m,\u001b[49m\u001b[43m \u001b[49m\u001b[43mmode\u001b[49m\u001b[38;5;241;43m=\u001b[39;49m\u001b[43mmode\u001b[49m\u001b[43m)\u001b[49m\n\u001b[0;32m   1446\u001b[0m     result_type \u001b[38;5;241m=\u001b[39m np\u001b[38;5;241m.\u001b[39mresult_type(volume, kernel)\n\u001b[0;32m   1447\u001b[0m     \u001b[38;5;28;01mif\u001b[39;00m result_type\u001b[38;5;241m.\u001b[39mkind \u001b[38;5;129;01min\u001b[39;00m {\u001b[38;5;124m'\u001b[39m\u001b[38;5;124mu\u001b[39m\u001b[38;5;124m'\u001b[39m, \u001b[38;5;124m'\u001b[39m\u001b[38;5;124mi\u001b[39m\u001b[38;5;124m'\u001b[39m}:\n",
      "File \u001b[1;32mc:\\Users\\stanl\\AppData\\Local\\Programs\\Python\\Python312\\Lib\\site-packages\\scipy\\signal\\_signaltools.py:695\u001b[0m, in \u001b[0;36mfftconvolve\u001b[1;34m(in1, in2, mode, axes)\u001b[0m\n\u001b[0;32m    690\u001b[0m s2 \u001b[38;5;241m=\u001b[39m in2\u001b[38;5;241m.\u001b[39mshape\n\u001b[0;32m    692\u001b[0m shape \u001b[38;5;241m=\u001b[39m [\u001b[38;5;28mmax\u001b[39m((s1[i], s2[i])) \u001b[38;5;28;01mif\u001b[39;00m i \u001b[38;5;129;01mnot\u001b[39;00m \u001b[38;5;129;01min\u001b[39;00m axes \u001b[38;5;28;01melse\u001b[39;00m s1[i] \u001b[38;5;241m+\u001b[39m s2[i] \u001b[38;5;241m-\u001b[39m \u001b[38;5;241m1\u001b[39m\n\u001b[0;32m    693\u001b[0m          \u001b[38;5;28;01mfor\u001b[39;00m i \u001b[38;5;129;01min\u001b[39;00m \u001b[38;5;28mrange\u001b[39m(in1\u001b[38;5;241m.\u001b[39mndim)]\n\u001b[1;32m--> 695\u001b[0m ret \u001b[38;5;241m=\u001b[39m \u001b[43m_freq_domain_conv\u001b[49m\u001b[43m(\u001b[49m\u001b[43min1\u001b[49m\u001b[43m,\u001b[49m\u001b[43m \u001b[49m\u001b[43min2\u001b[49m\u001b[43m,\u001b[49m\u001b[43m \u001b[49m\u001b[43maxes\u001b[49m\u001b[43m,\u001b[49m\u001b[43m \u001b[49m\u001b[43mshape\u001b[49m\u001b[43m,\u001b[49m\u001b[43m \u001b[49m\u001b[43mcalc_fast_len\u001b[49m\u001b[38;5;241;43m=\u001b[39;49m\u001b[38;5;28;43;01mTrue\u001b[39;49;00m\u001b[43m)\u001b[49m\n\u001b[0;32m    697\u001b[0m \u001b[38;5;28;01mreturn\u001b[39;00m _apply_conv_mode(ret, s1, s2, mode, axes)\n",
      "File \u001b[1;32mc:\\Users\\stanl\\AppData\\Local\\Programs\\Python\\Python312\\Lib\\site-packages\\scipy\\signal\\_signaltools.py:535\u001b[0m, in \u001b[0;36m_freq_domain_conv\u001b[1;34m(in1, in2, axes, shape, calc_fast_len)\u001b[0m\n\u001b[0;32m    532\u001b[0m sp1 \u001b[38;5;241m=\u001b[39m fft(in1, fshape, axes\u001b[38;5;241m=\u001b[39maxes)\n\u001b[0;32m    533\u001b[0m sp2 \u001b[38;5;241m=\u001b[39m fft(in2, fshape, axes\u001b[38;5;241m=\u001b[39maxes)\n\u001b[1;32m--> 535\u001b[0m ret \u001b[38;5;241m=\u001b[39m \u001b[43mifft\u001b[49m\u001b[43m(\u001b[49m\u001b[43msp1\u001b[49m\u001b[43m \u001b[49m\u001b[38;5;241;43m*\u001b[39;49m\u001b[43m \u001b[49m\u001b[43msp2\u001b[49m\u001b[43m,\u001b[49m\u001b[43m \u001b[49m\u001b[43mfshape\u001b[49m\u001b[43m,\u001b[49m\u001b[43m \u001b[49m\u001b[43maxes\u001b[49m\u001b[38;5;241;43m=\u001b[39;49m\u001b[43maxes\u001b[49m\u001b[43m)\u001b[49m\n\u001b[0;32m    537\u001b[0m \u001b[38;5;28;01mif\u001b[39;00m calc_fast_len:\n\u001b[0;32m    538\u001b[0m     fslice \u001b[38;5;241m=\u001b[39m \u001b[38;5;28mtuple\u001b[39m([\u001b[38;5;28mslice\u001b[39m(sz) \u001b[38;5;28;01mfor\u001b[39;00m sz \u001b[38;5;129;01min\u001b[39;00m shape])\n",
      "File \u001b[1;32mc:\\Users\\stanl\\AppData\\Local\\Programs\\Python\\Python312\\Lib\\site-packages\\scipy\\fft\\_backend.py:28\u001b[0m, in \u001b[0;36m_ScipyBackend.__ua_function__\u001b[1;34m(method, args, kwargs)\u001b[0m\n\u001b[0;32m     26\u001b[0m \u001b[38;5;28;01mif\u001b[39;00m fn \u001b[38;5;129;01mis\u001b[39;00m \u001b[38;5;28;01mNone\u001b[39;00m:\n\u001b[0;32m     27\u001b[0m     \u001b[38;5;28;01mreturn\u001b[39;00m \u001b[38;5;28mNotImplemented\u001b[39m\n\u001b[1;32m---> 28\u001b[0m \u001b[38;5;28;01mreturn\u001b[39;00m \u001b[43mfn\u001b[49m\u001b[43m(\u001b[49m\u001b[38;5;241;43m*\u001b[39;49m\u001b[43margs\u001b[49m\u001b[43m,\u001b[49m\u001b[43m \u001b[49m\u001b[38;5;241;43m*\u001b[39;49m\u001b[38;5;241;43m*\u001b[39;49m\u001b[43mkwargs\u001b[49m\u001b[43m)\u001b[49m\n",
      "File \u001b[1;32mc:\\Users\\stanl\\AppData\\Local\\Programs\\Python\\Python312\\Lib\\site-packages\\scipy\\fft\\_basic_backend.py:149\u001b[0m, in \u001b[0;36mirfftn\u001b[1;34m(x, s, axes, norm, overwrite_x, workers, plan)\u001b[0m\n\u001b[0;32m    147\u001b[0m \u001b[38;5;28;01mdef\u001b[39;00m\u001b[38;5;250m \u001b[39m\u001b[38;5;21mirfftn\u001b[39m(x, s\u001b[38;5;241m=\u001b[39m\u001b[38;5;28;01mNone\u001b[39;00m, axes\u001b[38;5;241m=\u001b[39m\u001b[38;5;28;01mNone\u001b[39;00m, norm\u001b[38;5;241m=\u001b[39m\u001b[38;5;28;01mNone\u001b[39;00m,\n\u001b[0;32m    148\u001b[0m            overwrite_x\u001b[38;5;241m=\u001b[39m\u001b[38;5;28;01mFalse\u001b[39;00m, workers\u001b[38;5;241m=\u001b[39m\u001b[38;5;28;01mNone\u001b[39;00m, \u001b[38;5;241m*\u001b[39m, plan\u001b[38;5;241m=\u001b[39m\u001b[38;5;28;01mNone\u001b[39;00m):\n\u001b[1;32m--> 149\u001b[0m     \u001b[38;5;28;01mreturn\u001b[39;00m \u001b[43m_execute_nD\u001b[49m\u001b[43m(\u001b[49m\u001b[38;5;124;43m'\u001b[39;49m\u001b[38;5;124;43mirfftn\u001b[39;49m\u001b[38;5;124;43m'\u001b[39;49m\u001b[43m,\u001b[49m\u001b[43m \u001b[49m\u001b[43m_pocketfft\u001b[49m\u001b[38;5;241;43m.\u001b[39;49m\u001b[43mirfftn\u001b[49m\u001b[43m,\u001b[49m\u001b[43m \u001b[49m\u001b[43mx\u001b[49m\u001b[43m,\u001b[49m\u001b[43m \u001b[49m\u001b[43ms\u001b[49m\u001b[38;5;241;43m=\u001b[39;49m\u001b[43ms\u001b[49m\u001b[43m,\u001b[49m\u001b[43m \u001b[49m\u001b[43maxes\u001b[49m\u001b[38;5;241;43m=\u001b[39;49m\u001b[43maxes\u001b[49m\u001b[43m,\u001b[49m\u001b[43m \u001b[49m\u001b[43mnorm\u001b[49m\u001b[38;5;241;43m=\u001b[39;49m\u001b[43mnorm\u001b[49m\u001b[43m,\u001b[49m\n\u001b[0;32m    150\u001b[0m \u001b[43m                       \u001b[49m\u001b[43moverwrite_x\u001b[49m\u001b[38;5;241;43m=\u001b[39;49m\u001b[43moverwrite_x\u001b[49m\u001b[43m,\u001b[49m\u001b[43m \u001b[49m\u001b[43mworkers\u001b[49m\u001b[38;5;241;43m=\u001b[39;49m\u001b[43mworkers\u001b[49m\u001b[43m,\u001b[49m\u001b[43m \u001b[49m\u001b[43mplan\u001b[49m\u001b[38;5;241;43m=\u001b[39;49m\u001b[43mplan\u001b[49m\u001b[43m)\u001b[49m\n",
      "File \u001b[1;32mc:\\Users\\stanl\\AppData\\Local\\Programs\\Python\\Python312\\Lib\\site-packages\\scipy\\fft\\_basic_backend.py:57\u001b[0m, in \u001b[0;36m_execute_nD\u001b[1;34m(func_str, pocketfft_func, x, s, axes, norm, overwrite_x, workers, plan)\u001b[0m\n\u001b[0;32m     55\u001b[0m \u001b[38;5;28;01mif\u001b[39;00m is_numpy(xp):\n\u001b[0;32m     56\u001b[0m     x \u001b[38;5;241m=\u001b[39m np\u001b[38;5;241m.\u001b[39masarray(x)\n\u001b[1;32m---> 57\u001b[0m     \u001b[38;5;28;01mreturn\u001b[39;00m \u001b[43mpocketfft_func\u001b[49m\u001b[43m(\u001b[49m\u001b[43mx\u001b[49m\u001b[43m,\u001b[49m\u001b[43m \u001b[49m\u001b[43ms\u001b[49m\u001b[38;5;241;43m=\u001b[39;49m\u001b[43ms\u001b[49m\u001b[43m,\u001b[49m\u001b[43m \u001b[49m\u001b[43maxes\u001b[49m\u001b[38;5;241;43m=\u001b[39;49m\u001b[43maxes\u001b[49m\u001b[43m,\u001b[49m\u001b[43m \u001b[49m\u001b[43mnorm\u001b[49m\u001b[38;5;241;43m=\u001b[39;49m\u001b[43mnorm\u001b[49m\u001b[43m,\u001b[49m\n\u001b[0;32m     58\u001b[0m \u001b[43m                          \u001b[49m\u001b[43moverwrite_x\u001b[49m\u001b[38;5;241;43m=\u001b[39;49m\u001b[43moverwrite_x\u001b[49m\u001b[43m,\u001b[49m\u001b[43m \u001b[49m\u001b[43mworkers\u001b[49m\u001b[38;5;241;43m=\u001b[39;49m\u001b[43mworkers\u001b[49m\u001b[43m,\u001b[49m\u001b[43m \u001b[49m\u001b[43mplan\u001b[49m\u001b[38;5;241;43m=\u001b[39;49m\u001b[43mplan\u001b[49m\u001b[43m)\u001b[49m\n\u001b[0;32m     60\u001b[0m norm \u001b[38;5;241m=\u001b[39m _validate_fft_args(workers, plan, norm)\n\u001b[0;32m     61\u001b[0m \u001b[38;5;28;01mif\u001b[39;00m \u001b[38;5;28mhasattr\u001b[39m(xp, \u001b[38;5;124m'\u001b[39m\u001b[38;5;124mfft\u001b[39m\u001b[38;5;124m'\u001b[39m):\n",
      "File \u001b[1;32mc:\\Users\\stanl\\AppData\\Local\\Programs\\Python\\Python312\\Lib\\site-packages\\scipy\\fft\\_pocketfft\\basic.py:218\u001b[0m, in \u001b[0;36mc2rn\u001b[1;34m(forward, x, s, axes, norm, overwrite_x, workers, plan)\u001b[0m\n\u001b[0;32m    215\u001b[0m tmp, _ \u001b[38;5;241m=\u001b[39m \u001b[38;5;28mtuple\u001b[39m(_fix_shape(tmp, shape, axes))\n\u001b[0;32m    217\u001b[0m \u001b[38;5;66;03m# Note: overwrite_x is not utilized\u001b[39;00m\n\u001b[1;32m--> 218\u001b[0m \u001b[38;5;28;01mreturn\u001b[39;00m \u001b[43mpfft\u001b[49m\u001b[38;5;241;43m.\u001b[39;49m\u001b[43mc2r\u001b[49m\u001b[43m(\u001b[49m\u001b[43mtmp\u001b[49m\u001b[43m,\u001b[49m\u001b[43m \u001b[49m\u001b[43maxes\u001b[49m\u001b[43m,\u001b[49m\u001b[43m \u001b[49m\u001b[43mlastsize\u001b[49m\u001b[43m,\u001b[49m\u001b[43m \u001b[49m\u001b[43mforward\u001b[49m\u001b[43m,\u001b[49m\u001b[43m \u001b[49m\u001b[43mnorm\u001b[49m\u001b[43m,\u001b[49m\u001b[43m \u001b[49m\u001b[38;5;28;43;01mNone\u001b[39;49;00m\u001b[43m,\u001b[49m\u001b[43m \u001b[49m\u001b[43mworkers\u001b[49m\u001b[43m)\u001b[49m\n",
      "\u001b[1;31mKeyboardInterrupt\u001b[0m: "
     ]
    }
   ],
   "source": [
    "conv_net.SGD(training_data, 10, 20, test_data, \n",
    "        monitor_training_acc=False, \n",
    "        monitor_test_acc=True,\n",
    "        )"
   ]
  },
  {
   "cell_type": "code",
   "execution_count": 56,
   "metadata": {},
   "outputs": [
    {
     "data": {
      "text/plain": [
       "<matplotlib.image.AxesImage at 0x1c88f5cd820>"
      ]
     },
     "execution_count": 56,
     "metadata": {},
     "output_type": "execute_result"
    },
    {
     "data": {
      "image/png": "[encoded data removed]",
      "text/plain": [
       "<Figure size 640x480 with 1 Axes>"
      ]
     },
     "metadata": {},
     "output_type": "display_data"
    }
   ],
   "source": [
    "plt.imshow(conv_net.layers[0].filters[0, 0])"
   ]
  },
  {
   "cell_type": "code",
   "execution_count": 70,
   "metadata": {},
   "outputs": [
    {
     "data": {
      "text/plain": [
       "<matplotlib.image.AxesImage at 0x1c8ffea6b10>"
      ]
     },
     "execution_count": 70,
     "metadata": {},
     "output_type": "execute_result"
    },
    {
     "data": {
      "image/png": "[encoded data removed]",
      "text/plain": [
       "<Figure size 640x480 with 1 Axes>"
      ]
     },
     "metadata": {},
     "output_type": "display_data"
    }
   ],
   "source": [
    "plt.imshow(training_data[4][0])"
   ]
  },
  {
   "cell_type": "code",
   "execution_count": 98,
   "metadata": {},
   "outputs": [
    {
     "data": {
      "text/plain": [
       "<matplotlib.image.AxesImage at 0x1c8feb9a870>"
      ]
     },
     "execution_count": 98,
     "metadata": {},
     "output_type": "execute_result"
    },
    {
     "data": {
      "image/png": "[encoded data removed]",
      "text/plain": [
       "<Figure size 640x480 with 1 Axes>"
      ]
     },
     "metadata": {},
     "output_type": "display_data"
    }
   ],
   "source": [
    "f = 3\n",
    "conved_img = sci.correlate(training_data[4][0], conv_net.layers[0].filters[f, 0], mode=\"valid\") + conv_net.layers[0].biases[f]\n",
    "plt.imshow(conved_img)"
   ]
  },
  {
   "cell_type": "code",
   "execution_count": 96,
   "metadata": {},
   "outputs": [
    {
     "data": {
      "text/plain": [
       "<matplotlib.image.AxesImage at 0x1c8f765c7d0>"
      ]
     },
     "execution_count": 96,
     "metadata": {},
     "output_type": "execute_result"
    },
    {
     "data": {
      "image/png": "[encoded data removed]",
      "text/plain": [
       "<Figure size 640x480 with 1 Axes>"
      ]
     },
     "metadata": {},
     "output_type": "display_data"
    }
   ],
   "source": [
    "m = MaxPool((1, 24, 24))\n",
    "pooled_img = m.feedforward(np.array([conved_img]))\n",
    "plt.imshow(pooled_img[0, 0])"
   ]
  },
  {
   "cell_type": "code",
   "execution_count": 94,
   "metadata": {},
   "outputs": [
    {
     "data": {
      "text/plain": [
       "array([ 0.12599984, -0.00603516, -1.35431575, -2.2749751 ])"
      ]
     },
     "execution_count": 94,
     "metadata": {},
     "output_type": "execute_result"
    }
   ],
   "source": [
    "conv_net.layers[0].biases"
   ]
  },
  {
   "cell_type": "code",
   "execution_count": 134,
   "metadata": {},
   "outputs": [
    {
     "data": {
      "text/plain": [
       "<matplotlib.image.AxesImage at 0x1c889429c10>"
      ]
     },
     "execution_count": 134,
     "metadata": {},
     "output_type": "execute_result"
    },
    {
     "data": {
      "image/png": "[encoded data removed]",
      "text/plain": [
       "<Figure size 640x480 with 1 Axes>"
      ]
     },
     "metadata": {},
     "output_type": "display_data"
    }
   ],
   "source": [
    "randn_images = np.random.randn(40, 28, 28)\n",
    "plt.imshow(randn_images[0])"
   ]
  },
  {
   "cell_type": "code",
   "execution_count": null,
   "metadata": {},
   "outputs": [
    {
     "data": {
      "text/plain": [
       "<matplotlib.image.AxesImage at 0x1c8f6e79c40>"
      ]
     },
     "execution_count": 135,
     "metadata": {},
     "output_type": "execute_result"
    },
    {
     "data": {
      "image/png": "[encoded data removed]",
      "text/plain": [
       "<Figure size 640x480 with 1 Axes>"
      ]
     },
     "metadata": {},
     "output_type": "display_data"
    }
   ],
   "source": [
    "plt.imshow(conv_net.feedforward(randn_images))"
   ]
  },
  {
   "cell_type": "code",
   "execution_count": 136,
   "metadata": {},
   "outputs": [
    {
     "data": {
      "text/plain": [
       "<matplotlib.image.AxesImage at 0x1c8894b7ce0>"
      ]
     },
     "execution_count": 136,
     "metadata": {},
     "output_type": "execute_result"
    },
    {
     "data": {
      "image/png": "[encoded data removed]",
      "text/plain": [
       "<Figure size 640x480 with 1 Axes>"
      ]
     },
     "metadata": {},
     "output_type": "display_data"
    }
   ],
   "source": [
    "plt.imshow(net.feedforward(randn_images))"
   ]
  },
  {
   "cell_type": "code",
   "execution_count": 139,
   "metadata": {},
   "outputs": [
    {
     "data": {
      "text/plain": [
       "<matplotlib.image.AxesImage at 0x1c8ffd8cfb0>"
      ]
     },
     "execution_count": 139,
     "metadata": {},
     "output_type": "execute_result"
    },
    {
     "data": {
      "image/png": "[encoded data removed]",
      "text/plain": [
       "<Figure size 640x480 with 1 Axes>"
      ]
     },
     "metadata": {},
     "output_type": "display_data"
    }
   ],
   "source": [
    "uniform_images = np.random.uniform(0, 1, size=(40, 28, 28))\n",
    "plt.imshow(uniform_images[0])"
   ]
  },
  {
   "cell_type": "code",
   "execution_count": 140,
   "metadata": {},
   "outputs": [
    {
     "data": {
      "text/plain": [
       "<matplotlib.image.AxesImage at 0x1c8ff8b34d0>"
      ]
     },
     "execution_count": 140,
     "metadata": {},
     "output_type": "execute_result"
    },
    {
     "data": {
      "image/png": "[encoded data removed]",
      "text/plain": [
       "<Figure size 640x480 with 1 Axes>"
      ]
     },
     "metadata": {},
     "output_type": "display_data"
    }
   ],
   "source": [
    "plt.imshow(conv_net.feedforward(uniform_images))"
   ]
  },
  {
   "cell_type": "code",
   "execution_count": 141,
   "metadata": {},
   "outputs": [
    {
     "data": {
      "text/plain": [
       "<matplotlib.image.AxesImage at 0x1c88931f7d0>"
      ]
     },
     "execution_count": 141,
     "metadata": {},
     "output_type": "execute_result"
    },
    {
     "data": {
      "image/png": "[encoded data removed]",
      "text/plain": [
       "<Figure size 640x480 with 1 Axes>"
      ]
     },
     "metadata": {},
     "output_type": "display_data"
    }
   ],
   "source": [
    "plt.imshow(net.feedforward(uniform_images))"
   ]
  },
  {
   "cell_type": "code",
   "execution_count": 142,
   "metadata": {},
   "outputs": [
    {
     "data": {
      "text/plain": [
       "<matplotlib.image.AxesImage at 0x1c8813ec770>"
      ]
     },
     "execution_count": 142,
     "metadata": {},
     "output_type": "execute_result"
    },
    {
     "data": {
      "image/png": "[encoded data removed]",
      "text/plain": [
       "<Figure size 640x480 with 1 Axes>"
      ]
     },
     "metadata": {},
     "output_type": "display_data"
    }
   ],
   "source": [
    "expo_images = np.random.exponential(1, size=(40, 28, 28))\n",
    "plt.imshow(expo_images[0])"
   ]
  },
  {
   "cell_type": "code",
   "execution_count": 143,
   "metadata": {},
   "outputs": [
    {
     "data": {
      "text/plain": [
       "<matplotlib.image.AxesImage at 0x1c8813ef770>"
      ]
     },
     "execution_count": 143,
     "metadata": {},
     "output_type": "execute_result"
    },
    {
     "data": {
      "image/png": "[encoded data removed]",
      "text/plain": [
       "<Figure size 640x480 with 1 Axes>"
      ]
     },
     "metadata": {},
     "output_type": "display_data"
    }
   ],
   "source": [
    "plt.imshow(conv_net.feedforward(expo_images))"
   ]
  },
  {
   "cell_type": "code",
   "execution_count": 144,
   "metadata": {},
   "outputs": [
    {
     "data": {
      "text/plain": [
       "<matplotlib.image.AxesImage at 0x1c88946d580>"
      ]
     },
     "execution_count": 144,
     "metadata": {},
     "output_type": "execute_result"
    },
    {
     "data": {
      "image/png": "[encoded data removed]",
      "text/plain": [
       "<Figure size 640x480 with 1 Axes>"
      ]
     },
     "metadata": {},
     "output_type": "display_data"
    }
   ],
   "source": [
    "plt.imshow(net.feedforward(expo_images))"
   ]
  },
  {
   "cell_type": "code",
   "execution_count": 145,
   "metadata": {},
   "outputs": [
    {
     "data": {
      "text/plain": [
       "<matplotlib.image.AxesImage at 0x1c8894f2750>"
      ]
     },
     "execution_count": 145,
     "metadata": {},
     "output_type": "execute_result"
    },
    {
     "data": {
      "image/png": "[encoded data removed]",
      "text/plain": [
       "<Figure size 640x480 with 1 Axes>"
      ]
     },
     "metadata": {},
     "output_type": "display_data"
    }
   ],
   "source": [
    "plt.imshow(sci.correlate(uniform_images[0], conv_net.layers[0].filters[0, 0], mode=\"valid\") + conv_net.layers[0].biases[0])"
   ]
  },
  {
   "cell_type": "code",
   "execution_count": 198,
   "metadata": {},
   "outputs": [
    {
     "data": {
      "text/plain": [
       "<matplotlib.image.AxesImage at 0x1c8889fc470>"
      ]
     },
     "execution_count": 198,
     "metadata": {},
     "output_type": "execute_result"
    },
    {
     "data": {
      "image/png": "[encoded data removed]",
      "text/plain": [
       "<Figure size 640x480 with 1 Axes>"
      ]
     },
     "metadata": {},
     "output_type": "display_data"
    }
   ],
   "source": [
    "linear_combo = 0.33 * training_data[3][0] + 0.33 * training_data[4][0] + 0.33 * training_data[5][0]\n",
    "plt.imshow(linear_combo)"
   ]
  },
  {
   "cell_type": "code",
   "execution_count": 199,
   "metadata": {},
   "outputs": [
    {
     "data": {
      "text/plain": [
       "<matplotlib.image.AxesImage at 0x1c8f7ba7b60>"
      ]
     },
     "execution_count": 199,
     "metadata": {},
     "output_type": "execute_result"
    },
    {
     "data": {
      "image/png": "[encoded data removed]",
      "text/plain": [
       "<Figure size 640x480 with 1 Axes>"
      ]
     },
     "metadata": {},
     "output_type": "display_data"
    }
   ],
   "source": [
    "plt.imshow(conv_net.feedforward(np.array([linear_combo])))"
   ]
  },
  {
   "cell_type": "code",
   "execution_count": 200,
   "metadata": {},
   "outputs": [
    {
     "data": {
      "text/plain": [
       "<matplotlib.image.AxesImage at 0x1c8f61c28a0>"
      ]
     },
     "execution_count": 200,
     "metadata": {},
     "output_type": "execute_result"
    },
    {
     "data": {
      "image/png": "[encoded data removed]",
      "text/plain": [
       "<Figure size 640x480 with 1 Axes>"
      ]
     },
     "metadata": {},
     "output_type": "display_data"
    }
   ],
   "source": [
    "plt.imshow(net.feedforward(np.array([linear_combo])))"
   ]
  },
  {
   "cell_type": "code",
   "execution_count": 211,
   "metadata": {},
   "outputs": [
    {
     "data": {
      "text/plain": [
       "array([[0.],\n",
       "       [1.],\n",
       "       [0.],\n",
       "       [0.],\n",
       "       [0.],\n",
       "       [0.],\n",
       "       [0.],\n",
       "       [0.],\n",
       "       [0.],\n",
       "       [0.]])"
      ]
     },
     "execution_count": 211,
     "metadata": {},
     "output_type": "execute_result"
    }
   ],
   "source": [
    "training_data[0][1]"
   ]
  },
  {
   "cell_type": "code",
   "execution_count": 2,
   "metadata": {},
   "outputs": [],
   "source": [
    "import fashion_mnist_loader\n",
    "train_fmnist, val_fmnist, test_fmnist = fashion_mnist_loader.load_data_wrapper(\"../data\")"
   ]
  },
  {
   "cell_type": "code",
   "execution_count": 3,
   "metadata": {},
   "outputs": [
    {
     "data": {
      "text/plain": [
       "<matplotlib.image.AxesImage at 0x1ba52ac5cd0>"
      ]
     },
     "execution_count": 3,
     "metadata": {},
     "output_type": "execute_result"
    },
    {
     "data": {
      "image/png": "[encoded data removed]",
      "text/plain": [
       "<Figure size 640x480 with 1 Axes>"
      ]
     },
     "metadata": {},
     "output_type": "display_data"
    }
   ],
   "source": [
    "plt.imshow(train_fmnist[0][0])"
   ]
  },
  {
   "cell_type": "code",
   "execution_count": 4,
   "metadata": {},
   "outputs": [
    {
     "data": {
      "text/plain": [
       "<matplotlib.image.AxesImage at 0x1ba52b186e0>"
      ]
     },
     "execution_count": 4,
     "metadata": {},
     "output_type": "execute_result"
    },
    {
     "data": {
      "image/png": "[encoded data removed]",
      "text/plain": [
       "<Figure size 640x480 with 1 Axes>"
      ]
     },
     "metadata": {},
     "output_type": "display_data"
    }
   ],
   "source": [
    "plt.imshow(train_fmnist[10][0])"
   ]
  },
  {
   "cell_type": "code",
   "execution_count": 5,
   "metadata": {},
   "outputs": [
    {
     "data": {
      "text/plain": [
       "<matplotlib.image.AxesImage at 0x1ba52ba7020>"
      ]
     },
     "execution_count": 5,
     "metadata": {},
     "output_type": "execute_result"
    },
    {
     "data": {
      "image/png": "[encoded data removed]",
      "text/plain": [
       "<Figure size 640x480 with 1 Axes>"
      ]
     },
     "metadata": {},
     "output_type": "display_data"
    }
   ],
   "source": [
    "plt.imshow(train_fmnist[10][1])"
   ]
  },
  {
   "cell_type": "code",
   "execution_count": 6,
   "metadata": {},
   "outputs": [
    {
     "data": {
      "text/plain": [
       "<matplotlib.image.AxesImage at 0x1ba52aedfa0>"
      ]
     },
     "execution_count": 6,
     "metadata": {},
     "output_type": "execute_result"
    },
    {
     "data": {
      "image/png": "[encoded data removed]",
      "text/plain": [
       "<Figure size 640x480 with 1 Axes>"
      ]
     },
     "metadata": {},
     "output_type": "display_data"
    }
   ],
   "source": [
    "plt.imshow(test_fmnist[1][0])"
   ]
  },
  {
   "cell_type": "code",
   "execution_count": 3,
   "metadata": {},
   "outputs": [],
   "source": [
    "n_train_fmnist = len(train_fmnist)\n",
    "reg = L2Regularization(3.125 / n_train_fmnist)\n",
    "\n",
    "net = modular_network.Network([\n",
    "    Flatten((28, 28)),\n",
    "    FullyConnected(28*28, 30, tanh(), reg),\n",
    "    FullyConnected(30, 30, tanh(), reg),\n",
    "    FullyConnected(30, 10, Softmax(), reg)\n",
    "], cost=BinaryCrossEntropyCost())\n",
    "\n",
    "optim = SGD_momentum_optimizer(0.005, 20, 0.95)\n",
    "\n",
    "net.set_optimizer(optim)"
   ]
  },
  {
   "cell_type": "code",
   "execution_count": null,
   "metadata": {},
   "outputs": [
    {
     "name": "stdout",
     "output_type": "stream",
     "text": [
      "Epoch 1 training complete, took 1.9937264919281006 seconds\n",
      "Accuracy on test data: 7132 / 10000\n",
      "Epoch 2 training complete, took 2.0655417442321777 seconds\n",
      "Accuracy on test data: 7717 / 10000\n",
      "Epoch 3 training complete, took 2.1490275859832764 seconds\n",
      "Accuracy on test data: 7925 / 10000\n",
      "Epoch 4 training complete, took 2.014514207839966 seconds\n",
      "Accuracy on test data: 7985 / 10000\n",
      "Epoch 5 training complete, took 2.403965711593628 seconds\n",
      "Accuracy on test data: 8208 / 10000\n",
      "Epoch 6 training complete, took 2.5524024963378906 seconds\n",
      "Accuracy on test data: 8283 / 10000\n",
      "Epoch 7 training complete, took 1.8094151020050049 seconds\n",
      "Accuracy on test data: 8273 / 10000\n",
      "Epoch 8 training complete, took 1.813664436340332 seconds\n",
      "Accuracy on test data: 8335 / 10000\n",
      "Epoch 9 training complete, took 1.9555444717407227 seconds\n",
      "Accuracy on test data: 8351 / 10000\n",
      "Epoch 10 training complete, took 2.0068938732147217 seconds\n",
      "Accuracy on test data: 8455 / 10000\n",
      "Epoch 11 training complete, took 2.404315710067749 seconds\n",
      "Accuracy on test data: 8466 / 10000\n",
      "Epoch 12 training complete, took 1.8291893005371094 seconds\n",
      "Accuracy on test data: 8373 / 10000\n",
      "Epoch 13 training complete, took 1.8096964359283447 seconds\n",
      "Accuracy on test data: 8498 / 10000\n",
      "Epoch 14 training complete, took 1.8096423149108887 seconds\n",
      "Accuracy on test data: 8458 / 10000\n",
      "Epoch 15 training complete, took 1.8013856410980225 seconds\n",
      "Accuracy on test data: 8491 / 10000\n",
      "Epoch 16 training complete, took 2.6150963306427 seconds\n",
      "Accuracy on test data: 8486 / 10000\n",
      "Epoch 17 training complete, took 1.9808106422424316 seconds\n",
      "Accuracy on test data: 8564 / 10000\n",
      "Epoch 18 training complete, took 2.135235071182251 seconds\n",
      "Accuracy on test data: 8562 / 10000\n",
      "Epoch 19 training complete, took 2.308781385421753 seconds\n",
      "Accuracy on test data: 8568 / 10000\n",
      "Epoch 20 training complete, took 2.3617072105407715 seconds\n",
      "Accuracy on test data: 8450 / 10000\n",
      "Epoch 21 training complete, took 2.7076196670532227 seconds\n",
      "Accuracy on test data: 8508 / 10000\n",
      "Epoch 22 training complete, took 3.031449556350708 seconds\n",
      "Accuracy on test data: 8583 / 10000\n",
      "Epoch 23 training complete, took 2.6707775592803955 seconds\n",
      "Accuracy on test data: 8578 / 10000\n",
      "Epoch 24 training complete, took 2.1974358558654785 seconds\n",
      "Accuracy on test data: 8563 / 10000\n",
      "Epoch 25 training complete, took 1.8359746932983398 seconds\n",
      "Accuracy on test data: 8565 / 10000\n",
      "Epoch 26 training complete, took 1.8716678619384766 seconds\n",
      "Accuracy on test data: 8595 / 10000\n",
      "Epoch 27 training complete, took 2.0668997764587402 seconds\n",
      "Accuracy on test data: 8619 / 10000\n",
      "Epoch 28 training complete, took 1.9232759475708008 seconds\n",
      "Accuracy on test data: 8592 / 10000\n",
      "Epoch 29 training complete, took 2.702777147293091 seconds\n",
      "Accuracy on test data: 8586 / 10000\n",
      "Epoch 30 training complete, took 2.7013626098632812 seconds\n",
      "Accuracy on test data: 8590 / 10000\n"
     ]
    }
   ],
   "source": [
    "net.SGD(train_fmnist, 30, 20, val_fmnist, \n",
    "        monitor_test_acc=True)\n"
   ]
  },
  {
   "cell_type": "code",
   "execution_count": 5,
   "metadata": {},
   "outputs": [],
   "source": [
    "net_2 = modular_network.Network([\n",
    "    Flatten((28, 28)),\n",
    "    FullyConnected(28*28, 100, tanh(), reg),\n",
    "    FullyConnected(100, 100, tanh(), reg),\n",
    "    FullyConnected(100, 10, Softmax(), reg)\n",
    "], cost=BinaryCrossEntropyCost())\n",
    "\n",
    "optim = SGD_momentum_optimizer(0.005, 20, 0.95)\n",
    "\n",
    "net_2.set_optimizer(optim)"
   ]
  },
  {
   "cell_type": "code",
   "execution_count": 7,
   "metadata": {},
   "outputs": [
    {
     "name": "stdout",
     "output_type": "stream",
     "text": [
      "Epoch 1 training complete, took 6.74565577507019 seconds\n",
      "Accuracy on test data: 7411 / 10000\n",
      "Epoch 2 training complete, took 6.651242256164551 seconds\n",
      "Accuracy on test data: 7803 / 10000\n",
      "Epoch 3 training complete, took 7.284785270690918 seconds\n",
      "Accuracy on test data: 7933 / 10000\n",
      "Epoch 4 training complete, took 12.215213298797607 seconds\n",
      "Accuracy on test data: 8126 / 10000\n",
      "Epoch 5 training complete, took 16.71707820892334 seconds\n",
      "Accuracy on test data: 8187 / 10000\n",
      "Epoch 6 training complete, took 16.007018089294434 seconds\n",
      "Accuracy on test data: 8192 / 10000\n",
      "Epoch 7 training complete, took 16.493683099746704 seconds\n",
      "Accuracy on test data: 8365 / 10000\n",
      "Epoch 8 training complete, took 6.907848834991455 seconds\n",
      "Accuracy on test data: 8266 / 10000\n",
      "Epoch 9 training complete, took 6.267387628555298 seconds\n",
      "Accuracy on test data: 8451 / 10000\n",
      "Epoch 10 training complete, took 6.134803295135498 seconds\n",
      "Accuracy on test data: 8440 / 10000\n",
      "Epoch 11 training complete, took 6.8045713901519775 seconds\n",
      "Accuracy on test data: 8483 / 10000\n",
      "Epoch 12 training complete, took 7.585974216461182 seconds\n",
      "Accuracy on test data: 8437 / 10000\n",
      "Epoch 13 training complete, took 8.173485517501831 seconds\n",
      "Accuracy on test data: 8547 / 10000\n",
      "Epoch 14 training complete, took 7.176190614700317 seconds\n",
      "Accuracy on test data: 8477 / 10000\n",
      "Epoch 15 training complete, took 6.737103700637817 seconds\n",
      "Accuracy on test data: 8454 / 10000\n",
      "Epoch 16 training complete, took 6.5907347202301025 seconds\n",
      "Accuracy on test data: 8536 / 10000\n",
      "Epoch 17 training complete, took 6.13553261756897 seconds\n",
      "Accuracy on test data: 8453 / 10000\n",
      "Epoch 18 training complete, took 6.164862155914307 seconds\n",
      "Accuracy on test data: 8607 / 10000\n",
      "Epoch 19 training complete, took 6.471774339675903 seconds\n",
      "Accuracy on test data: 8598 / 10000\n",
      "Epoch 20 training complete, took 6.125137090682983 seconds\n",
      "Accuracy on test data: 8635 / 10000\n",
      "Epoch 21 training complete, took 7.253431081771851 seconds\n",
      "Accuracy on test data: 8633 / 10000\n",
      "Epoch 22 training complete, took 7.833395957946777 seconds\n",
      "Accuracy on test data: 8619 / 10000\n",
      "Epoch 23 training complete, took 8.600689172744751 seconds\n",
      "Accuracy on test data: 8555 / 10000\n",
      "Epoch 24 training complete, took 8.602235555648804 seconds\n",
      "Accuracy on test data: 8568 / 10000\n",
      "Epoch 25 training complete, took 9.748506784439087 seconds\n",
      "Accuracy on test data: 8680 / 10000\n",
      "Epoch 26 training complete, took 8.257815837860107 seconds\n",
      "Accuracy on test data: 8554 / 10000\n",
      "Epoch 27 training complete, took 8.093854904174805 seconds\n",
      "Accuracy on test data: 8666 / 10000\n",
      "Epoch 28 training complete, took 7.70434308052063 seconds\n",
      "Accuracy on test data: 8682 / 10000\n",
      "Epoch 29 training complete, took 7.601755380630493 seconds\n",
      "Accuracy on test data: 8675 / 10000\n",
      "Epoch 30 training complete, took 9.886189460754395 seconds\n",
      "Accuracy on test data: 8659 / 10000\n"
     ]
    }
   ],
   "source": [
    "net_2.SGD(train_fmnist, 30, 20, val_fmnist, \n",
    "        monitor_test_acc=True)"
   ]
  },
  {
   "cell_type": "code",
   "execution_count": 61,
   "metadata": {},
   "outputs": [],
   "source": [
    "conv_net = modular_network.Network([\n",
    "    Convolution((28, 28), (5, 5), 4, tanh(), correct2Dinput=True),\n",
    "    MaxPool((4, 24, 24)),\n",
    "    Flatten((4, 12, 12)),\n",
    "    FullyConnected(4*12*12, 100, tanh(), reg),\n",
    "    FullyConnected(100, 100, tanh(), reg),\n",
    "    FullyConnected(100, 10, Softmax(), reg)\n",
    "], cost = BinaryCrossEntropyCost())\n",
    "\n",
    "optim_2 = SGD_momentum_optimizer(0.005, 20, 0.95)\n",
    "conv_net.set_optimizer(optim_2)"
   ]
  },
  {
   "cell_type": "code",
   "execution_count": 62,
   "metadata": {},
   "outputs": [
    {
     "name": "stdout",
     "output_type": "stream",
     "text": [
      "Epoch 1 training complete, took 137.27189540863037 seconds\n",
      "Accuracy on test data: 7127 / 10000\n",
      "Epoch 2 training complete, took 326.8010356426239 seconds\n",
      "Accuracy on test data: 7590 / 10000\n",
      "Epoch 3 training complete, took 144.15219378471375 seconds\n",
      "Accuracy on test data: 7828 / 10000\n",
      "Epoch 4 training complete, took 296.9900782108307 seconds\n",
      "Accuracy on test data: 8077 / 10000\n",
      "Epoch 5 training complete, took 160.51105976104736 seconds\n",
      "Accuracy on test data: 8237 / 10000\n",
      "Epoch 6 training complete, took 154.98930859565735 seconds\n",
      "Accuracy on test data: 8236 / 10000\n",
      "Epoch 7 training complete, took 780.5496785640717 seconds\n",
      "Accuracy on test data: 8386 / 10000\n"
     ]
    },
    {
     "ename": "KeyboardInterrupt",
     "evalue": "",
     "output_type": "error",
     "traceback": [
      "\u001b[1;31m---------------------------------------------------------------------------\u001b[0m",
      "\u001b[1;31mKeyboardInterrupt\u001b[0m                         Traceback (most recent call last)",
      "Cell \u001b[1;32mIn[62], line 1\u001b[0m\n\u001b[1;32m----> 1\u001b[0m \u001b[43mconv_net\u001b[49m\u001b[38;5;241;43m.\u001b[39;49m\u001b[43mSGD\u001b[49m\u001b[43m(\u001b[49m\u001b[43mtrain_fmnist\u001b[49m\u001b[43m,\u001b[49m\u001b[43m \u001b[49m\u001b[38;5;241;43m30\u001b[39;49m\u001b[43m,\u001b[49m\u001b[43m \u001b[49m\u001b[38;5;241;43m20\u001b[39;49m\u001b[43m,\u001b[49m\u001b[43m \u001b[49m\u001b[43mval_fmnist\u001b[49m\u001b[43m,\u001b[49m\n\u001b[0;32m      2\u001b[0m \u001b[43m             \u001b[49m\u001b[43mmonitor_test_acc\u001b[49m\u001b[38;5;241;43m=\u001b[39;49m\u001b[38;5;28;43;01mTrue\u001b[39;49;00m\u001b[43m)\u001b[49m\n",
      "File \u001b[1;32mc:\\Users\\stanl\\ml_0\\src\\modular_network.py:81\u001b[0m, in \u001b[0;36mNetwork.SGD\u001b[1;34m(self, training_data, epochs, mini_batch_size, test_data, monitor_test_cost, monitor_test_acc, monitor_training_cost, monitor_training_acc)\u001b[0m\n\u001b[0;32m     76\u001b[0m mini_batches \u001b[38;5;241m=\u001b[39m [\n\u001b[0;32m     77\u001b[0m     training_data[k:k\u001b[38;5;241m+\u001b[39mmini_batch_size]\n\u001b[0;32m     78\u001b[0m     \u001b[38;5;28;01mfor\u001b[39;00m k \u001b[38;5;129;01min\u001b[39;00m \u001b[38;5;28mrange\u001b[39m(\u001b[38;5;241m0\u001b[39m, n, mini_batch_size)]\n\u001b[0;32m     80\u001b[0m \u001b[38;5;28;01mfor\u001b[39;00m mini_batch \u001b[38;5;129;01min\u001b[39;00m mini_batches:\n\u001b[1;32m---> 81\u001b[0m     \u001b[38;5;28;43mself\u001b[39;49m\u001b[38;5;241;43m.\u001b[39;49m\u001b[43mupdate_mini_batch\u001b[49m\u001b[43m(\u001b[49m\u001b[43mmini_batch\u001b[49m\u001b[43m,\u001b[49m\u001b[43m \u001b[49m\u001b[38;5;28;43mlen\u001b[39;49m\u001b[43m(\u001b[49m\u001b[43mtraining_data\u001b[49m\u001b[43m)\u001b[49m\u001b[43m)\u001b[49m\n\u001b[0;32m     83\u001b[0m time2 \u001b[38;5;241m=\u001b[39m time\u001b[38;5;241m.\u001b[39mtime()\n\u001b[0;32m     85\u001b[0m \u001b[38;5;28mprint\u001b[39m(\u001b[38;5;124mf\u001b[39m\u001b[38;5;124m\"\u001b[39m\u001b[38;5;124mEpoch \u001b[39m\u001b[38;5;132;01m{\u001b[39;00mj\u001b[38;5;241m+\u001b[39m\u001b[38;5;241m1\u001b[39m\u001b[38;5;132;01m}\u001b[39;00m\u001b[38;5;124m training complete, took \u001b[39m\u001b[38;5;132;01m{\u001b[39;00mtime2\u001b[38;5;250m \u001b[39m\u001b[38;5;241m-\u001b[39m\u001b[38;5;250m \u001b[39mtime1\u001b[38;5;132;01m}\u001b[39;00m\u001b[38;5;124m seconds\u001b[39m\u001b[38;5;124m\"\u001b[39m)\n",
      "File \u001b[1;32mc:\\Users\\stanl\\ml_0\\src\\modular_network.py:48\u001b[0m, in \u001b[0;36mNetwork.update_mini_batch\u001b[1;34m(self, mini_batch, n)\u001b[0m\n\u001b[0;32m     46\u001b[0m delta \u001b[38;5;241m=\u001b[39m \u001b[38;5;28mself\u001b[39m\u001b[38;5;241m.\u001b[39mcost\u001b[38;5;241m.\u001b[39mderivative(a_L, Y)\n\u001b[0;32m     47\u001b[0m \u001b[38;5;66;03m# backprop\u001b[39;00m\n\u001b[1;32m---> 48\u001b[0m \u001b[38;5;28;43mself\u001b[39;49m\u001b[38;5;241;43m.\u001b[39;49m\u001b[43mbackprop\u001b[49m\u001b[43m(\u001b[49m\u001b[43mdelta\u001b[49m\u001b[43m)\u001b[49m\n",
      "File \u001b[1;32mc:\\Users\\stanl\\ml_0\\src\\modular_network.py:30\u001b[0m, in \u001b[0;36mNetwork.backprop\u001b[1;34m(self, delta)\u001b[0m\n\u001b[0;32m     28\u001b[0m \u001b[38;5;28;01mdef\u001b[39;00m\u001b[38;5;250m \u001b[39m\u001b[38;5;21mbackprop\u001b[39m(\u001b[38;5;28mself\u001b[39m, delta):\n\u001b[0;32m     29\u001b[0m     \u001b[38;5;28;01mfor\u001b[39;00m layer \u001b[38;5;129;01min\u001b[39;00m \u001b[38;5;28mreversed\u001b[39m(\u001b[38;5;28mself\u001b[39m\u001b[38;5;241m.\u001b[39mlayers):\n\u001b[1;32m---> 30\u001b[0m         delta \u001b[38;5;241m=\u001b[39m \u001b[43mlayer\u001b[49m\u001b[38;5;241;43m.\u001b[39;49m\u001b[43mbackprop\u001b[49m\u001b[43m(\u001b[49m\u001b[43mdelta\u001b[49m\u001b[43m)\u001b[49m\n",
      "File \u001b[1;32mc:\\Users\\stanl\\ml_0\\src\\components\\layers.py:101\u001b[0m, in \u001b[0;36mConvolution.backprop\u001b[1;34m(self, delta)\u001b[0m\n\u001b[0;32m     97\u001b[0m nabla_w \u001b[38;5;241m=\u001b[39m np\u001b[38;5;241m.\u001b[39mzeros((F, C, h_f, w_f))\n\u001b[0;32m     98\u001b[0m \u001b[38;5;28;01mfor\u001b[39;00m f \u001b[38;5;129;01min\u001b[39;00m \u001b[38;5;28mrange\u001b[39m(F):\n\u001b[0;32m     99\u001b[0m     \u001b[38;5;66;03m# (M, C, H, W) corr (M, 1, Hp, Wp) --> (1, C, h_f, w_f)\u001b[39;00m\n\u001b[1;32m--> 101\u001b[0m     nabla_w[f] \u001b[38;5;241m=\u001b[39m sci\u001b[38;5;241m.\u001b[39mcorrelate(\u001b[38;5;28mself\u001b[39m\u001b[38;5;241m.\u001b[39mprev_a, delta_bar[:, f], mode\u001b[38;5;241m=\u001b[39m\u001b[38;5;124m\"\u001b[39m\u001b[38;5;124mvalid\u001b[39m\u001b[38;5;124m\"\u001b[39m)[\u001b[38;5;241m0\u001b[39m]\n\u001b[0;32m    103\u001b[0m \u001b[38;5;66;03m# dL/db\u001b[39;00m\n\u001b[0;32m    104\u001b[0m nabla_b \u001b[38;5;241m=\u001b[39m np\u001b[38;5;241m.\u001b[39msum(delta, axis\u001b[38;5;241m=\u001b[39m(\u001b[38;5;241m0\u001b[39m, \u001b[38;5;241m2\u001b[39m, \u001b[38;5;241m3\u001b[39m))\n",
      "\u001b[1;31mKeyboardInterrupt\u001b[0m: "
     ]
    }
   ],
   "source": [
    "conv_net.SGD(train_fmnist, 30, 20, val_fmnist,\n",
    "             monitor_test_acc=True)"
   ]
  },
  {
   "cell_type": "code",
   "execution_count": null,
   "metadata": {},
   "outputs": [],
   "source": []
  }
 ],
 "metadata": {
  "kernelspec": {
   "display_name": "Python 3",
   "language": "python",
   "name": "python3"
  },
  "language_info": {
   "codemirror_mode": {
    "name": "ipython",
    "version": 3
   },
   "file_extension": ".py",
   "mimetype": "text/x-python",
   "name": "python",
   "nbconvert_exporter": "python",
   "pygments_lexer": "ipython3",
   "version": "3.12.4"
  }
 },
 "nbformat": 4,
 "nbformat_minor": 2
}
