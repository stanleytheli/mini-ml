{
 "cells": [
  {
   "cell_type": "code",
   "execution_count": 1,
   "metadata": {},
   "outputs": [],
   "source": [
    "from components import *\n",
    "import numpy as np\n",
    "import scipy.signal as sci"
   ]
  },
  {
   "cell_type": "code",
   "execution_count": 2,
   "metadata": {},
   "outputs": [],
   "source": [
    "C, H, W = 2, 5 ,5\n",
    "h_f, w_f = 2, 2\n",
    "F = 3\n",
    "M = 1"
   ]
  },
  {
   "cell_type": "code",
   "execution_count": 3,
   "metadata": {},
   "outputs": [],
   "source": [
    "def approx_eq(a, b):\n",
    "    return np.all(np.abs(a - b) < 1e-6)"
   ]
  },
  {
   "cell_type": "code",
   "execution_count": 4,
   "metadata": {},
   "outputs": [],
   "source": [
    "Hp = H - h_f + 1\n",
    "Wp = W - w_f + 1\n",
    "\n",
    "conv = Convolution((C, H, W), (h_f, w_f), F, noActivation())\n",
    "x = np.random.randn(M, C, H, W)\n",
    "\n",
    "x_fwd = conv.feedforward(x)\n",
    "assert x_fwd.shape == (M, F, Hp, Wp)"
   ]
  },
  {
   "cell_type": "code",
   "execution_count": 5,
   "metadata": {},
   "outputs": [],
   "source": [
    "def test_feedforward(m_test, f_test):\n",
    "    sum = np.zeros((Hp, Wp))\n",
    "    for c in range(C):\n",
    "        img = x[m_test, c] \n",
    "        filter = conv.filters[f_test, c] # first filter, channel c\n",
    "        sum += sci.correlate(img, filter, mode=\"valid\")\n",
    "    sum += conv.biases[f_test]\n",
    "    \n",
    "    assert approx_eq(x_fwd[m_test, f_test], sum)\n",
    "\n",
    "for m in range(M):\n",
    "    for f in range(F):\n",
    "        test_feedforward(m, f)"
   ]
  },
  {
   "cell_type": "code",
   "execution_count": 6,
   "metadata": {},
   "outputs": [],
   "source": [
    "delta = np.random.randn(M, F, Hp, Wp)\n",
    "conv.set_optimizer(SGD_optimizer(0, 20).get_optimizer())\n",
    "prev_delta = conv.backprop(delta)\n",
    "assert prev_delta.shape == (M, C, H, W)"
   ]
  },
  {
   "cell_type": "code",
   "execution_count": null,
   "metadata": {},
   "outputs": [],
   "source": []
  }
 ],
 "metadata": {
  "kernelspec": {
   "display_name": "Python 3",
   "language": "python",
   "name": "python3"
  },
  "language_info": {
   "codemirror_mode": {
    "name": "ipython",
    "version": 3
   },
   "file_extension": ".py",
   "mimetype": "text/x-python",
   "name": "python",
   "nbconvert_exporter": "python",
   "pygments_lexer": "ipython3",
   "version": "3.12.4"
  }
 },
 "nbformat": 4,
 "nbformat_minor": 2
}
