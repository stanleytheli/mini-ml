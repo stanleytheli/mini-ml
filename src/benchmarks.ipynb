{
 "cells": [
  {
   "cell_type": "code",
   "execution_count": 10,
   "metadata": {},
   "outputs": [],
   "source": [
    "from components import *\n",
    "import numpy as np\n",
    "import scipy.signal as sci\n",
    "import time"
   ]
  },
  {
   "cell_type": "code",
   "execution_count": 70,
   "metadata": {},
   "outputs": [],
   "source": [
    "def benchmark(layer, x_shape, delta_shape, samples = 50, resolution = 200, digits_precision = 4):\n",
    "    def measure_func(func, input_shape):\n",
    "        times = []\n",
    "\n",
    "        for _ in range(samples):\n",
    "            now = time.time()\n",
    "            for i in range(resolution):\n",
    "                input = np.random.randn(*input_shape)\n",
    "                func(input)\n",
    "            times.append(time.time() - now)\n",
    "\n",
    "        mean = 1000 * np.mean(times) / resolution\n",
    "        median = 1000 * np.median(times) / resolution\n",
    "        std = 1000 * np.std(times) / np.sqrt(resolution)\n",
    "\n",
    "        return mean, median, std\n",
    "\n",
    "    mean_ffwd, median_ffwd, std_ffwd = measure_func(layer.feedforward, x_shape)\n",
    "    mean_back, median_back, std_back = measure_func(layer.backprop, delta_shape)\n",
    "\n",
    "    print(f\"Feedforward: {round(mean_ffwd, digits_precision)} ± {round(std_ffwd, digits_precision)} ms         median {median_ffwd} ms\")\n",
    "    print(f\"Backprop: {round(mean_back, digits_precision)} ± {round(std_back, digits_precision)} ms         median {median_back} ms\")"
   ]
  },
  {
   "cell_type": "code",
   "execution_count": 71,
   "metadata": {},
   "outputs": [],
   "source": [
    "get_optimizer = lambda : SGD_momentum_optimizer(0.001, 20, 0.99).get_optimizer()"
   ]
  },
  {
   "cell_type": "code",
   "execution_count": null,
   "metadata": {},
   "outputs": [
    {
     "name": "stdout",
     "output_type": "stream",
     "text": [
      "Feedforward: 0.0839 ± 0.3621 ms         median 0.08337914943695068 ms\n",
      "Backprop: 0.2043 ± 0.6295 ms         median 0.18944263458251953 ms\n"
     ]
    }
   ],
   "source": [
    "# FullyConnected benchmark\n",
    "f = FullyConnected(100, 100, tanh(), L2Regularization(0.001))\n",
    "f.set_optimizer(get_optimizer())\n",
    "benchmark(f, (100, 1), (100, 1))"
   ]
  },
  {
   "cell_type": "code",
   "execution_count": 75,
   "metadata": {},
   "outputs": [
    {
     "name": "stdout",
     "output_type": "stream",
     "text": [
      "Feedforward: 0.0985 ± 0.6751 ms         median 0.08848786354064941 ms\n",
      "Backprop: 0.5042 ± 2.2526 ms         median 0.44431984424591064 ms\n"
     ]
    }
   ],
   "source": [
    "f = FullyConnected(200, 200, tanh(), L2Regularization(0.001))\n",
    "f.set_optimizer(get_optimizer())\n",
    "benchmark(f, (200, 1), (200, 1))"
   ]
  },
  {
   "cell_type": "code",
   "execution_count": 77,
   "metadata": {},
   "outputs": [
    {
     "name": "stdout",
     "output_type": "stream",
     "text": [
      "Feedforward: 35.6962 ± 38.3102 ms         median 33.080703020095825 ms\n",
      "Backprop: 77.7228 ± 23.1754 ms         median 78.09931635856628 ms\n"
     ]
    }
   ],
   "source": [
    "conv = Convolution((4, 28, 28), (3, 3), 8, tanh())\n",
    "conv.set_optimizer(get_optimizer())\n",
    "benchmark(conv, (10, 4, 28, 28), (10, 8, 26, 26), resolution=20)"
   ]
  },
  {
   "cell_type": "code",
   "execution_count": 89,
   "metadata": {},
   "outputs": [
    {
     "name": "stdout",
     "output_type": "stream",
     "text": [
      "Feedforward: 71.5669 ± 79.2425 ms         median 64.68868255615234 ms\n",
      "Backprop: 9.5479 ± 2.0161 ms         median 9.358930587768555 ms\n"
     ]
    }
   ],
   "source": [
    "maxpool = MaxPool((4, 28, 28))\n",
    "benchmark(maxpool, (10, 4, 28, 28), (10, 4, 14, 14), resolution=20)"
   ]
  },
  {
   "cell_type": "code",
   "execution_count": null,
   "metadata": {},
   "outputs": [],
   "source": []
  }
 ],
 "metadata": {
  "kernelspec": {
   "display_name": "Python 3",
   "language": "python",
   "name": "python3"
  },
  "language_info": {
   "codemirror_mode": {
    "name": "ipython",
    "version": 3
   },
   "file_extension": ".py",
   "mimetype": "text/x-python",
   "name": "python",
   "nbconvert_exporter": "python",
   "pygments_lexer": "ipython3",
   "version": "3.12.4"
  }
 },
 "nbformat": 4,
 "nbformat_minor": 2
}
