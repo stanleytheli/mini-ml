{
 "cells": [
  {
   "cell_type": "code",
   "execution_count": 1,
   "metadata": {},
   "outputs": [],
   "source": [
    "from components import *\n",
    "import modular_network\n",
    "import mnist_loader, fashion_mnist_loader\n",
    "import matplotlib.pyplot as plt\n",
    "import numpy as np\n",
    "import scipy.signal as sci"
   ]
  },
  {
   "cell_type": "code",
   "execution_count": 2,
   "metadata": {},
   "outputs": [],
   "source": [
    "mnist_train, mnist_val, mnist_test = mnist_loader.load_data_wrapper(\"../data/mnist.pkl.gz\")"
   ]
  },
  {
   "cell_type": "code",
   "execution_count": 17,
   "metadata": {},
   "outputs": [],
   "source": [
    "n_train = len(mnist_train)\n",
    "reg = L2Regularization(1.5 / n_train)\n",
    "\n",
    "net = modular_network.Network([\n",
    "    Flatten((28, 28)),\n",
    "    FullyConnected(28*28, 30, tanh(), reg),\n",
    "    FullyConnected(30, 30, tanh(), reg),\n",
    "    FullyConnected(30, 10, Softmax(), reg)\n",
    "])\n",
    "\n",
    "cost = BinaryCrossEntropyCost()\n",
    "\n",
    "aug = RandUniformAug(-0.2, 0.2)\n",
    "\n",
    "net.set_cost(cost)"
   ]
  },
  {
   "cell_type": "code",
   "execution_count": 18,
   "metadata": {},
   "outputs": [
    {
     "name": "stdout",
     "output_type": "stream",
     "text": [
      "Epoch 1 training complete, took 1.7931454181671143 seconds\n",
      "Accuracy on test data: 9192 / 10000\n",
      "Epoch 2 training complete, took 1.6505050659179688 seconds\n",
      "Accuracy on test data: 9346 / 10000\n",
      "Epoch 3 training complete, took 3.4247539043426514 seconds\n",
      "Accuracy on test data: 9433 / 10000\n",
      "Epoch 4 training complete, took 3.6850006580352783 seconds\n",
      "Accuracy on test data: 9490 / 10000\n",
      "Epoch 5 training complete, took 3.1965372562408447 seconds\n",
      "Accuracy on test data: 9532 / 10000\n",
      "Epoch 6 training complete, took 2.7807881832122803 seconds\n",
      "Accuracy on test data: 9558 / 10000\n",
      "Epoch 7 training complete, took 2.500983953475952 seconds\n",
      "Accuracy on test data: 9584 / 10000\n",
      "Epoch 8 training complete, took 2.633441686630249 seconds\n",
      "Accuracy on test data: 9602 / 10000\n",
      "Epoch 9 training complete, took 2.6437017917633057 seconds\n",
      "Accuracy on test data: 9597 / 10000\n",
      "Epoch 10 training complete, took 3.618229627609253 seconds\n",
      "Accuracy on test data: 9621 / 10000\n",
      "Epoch 1 training complete, took 2.584939956665039 seconds\n",
      "Accuracy on test data: 9642 / 10000\n",
      "Epoch 2 training complete, took 2.798468589782715 seconds\n",
      "Accuracy on test data: 9630 / 10000\n",
      "Epoch 3 training complete, took 2.37927508354187 seconds\n",
      "Accuracy on test data: 9640 / 10000\n",
      "Epoch 4 training complete, took 2.7270994186401367 seconds\n",
      "Accuracy on test data: 9649 / 10000\n",
      "Epoch 5 training complete, took 2.568096876144409 seconds\n",
      "Accuracy on test data: 9643 / 10000\n",
      "Epoch 6 training complete, took 2.549333095550537 seconds\n",
      "Accuracy on test data: 9656 / 10000\n",
      "Epoch 7 training complete, took 2.4160139560699463 seconds\n",
      "Accuracy on test data: 9657 / 10000\n",
      "Epoch 8 training complete, took 2.6038658618927 seconds\n",
      "Accuracy on test data: 9656 / 10000\n",
      "Epoch 9 training complete, took 2.7118804454803467 seconds\n",
      "Accuracy on test data: 9666 / 10000\n",
      "Epoch 10 training complete, took 2.4500038623809814 seconds\n",
      "Accuracy on test data: 9673 / 10000\n",
      "Epoch 1 training complete, took 2.811239004135132 seconds\n",
      "Accuracy on test data: 9668 / 10000\n",
      "Epoch 2 training complete, took 2.68837833404541 seconds\n",
      "Accuracy on test data: 9671 / 10000\n",
      "Epoch 3 training complete, took 2.9046285152435303 seconds\n",
      "Accuracy on test data: 9679 / 10000\n",
      "Epoch 4 training complete, took 2.748354911804199 seconds\n",
      "Accuracy on test data: 9678 / 10000\n",
      "Epoch 5 training complete, took 2.378007173538208 seconds\n",
      "Accuracy on test data: 9675 / 10000\n",
      "Epoch 6 training complete, took 2.4703423976898193 seconds\n",
      "Accuracy on test data: 9676 / 10000\n",
      "Epoch 7 training complete, took 2.6389834880828857 seconds\n",
      "Accuracy on test data: 9674 / 10000\n",
      "Epoch 8 training complete, took 2.649963855743408 seconds\n",
      "Accuracy on test data: 9682 / 10000\n",
      "Epoch 9 training complete, took 2.35288143157959 seconds\n",
      "Accuracy on test data: 9682 / 10000\n",
      "Epoch 10 training complete, took 2.565507650375366 seconds\n",
      "Accuracy on test data: 9690 / 10000\n"
     ]
    },
    {
     "data": {
      "text/plain": [
       "{'training_acc': [],\n",
       " 'training_cost': [],\n",
       " 'test_acc': [9668, 9671, 9679, 9678, 9675, 9676, 9674, 9682, 9682, 9690],\n",
       " 'test_cost': []}"
      ]
     },
     "execution_count": 18,
     "metadata": {},
     "output_type": "execute_result"
    }
   ],
   "source": [
    "optim = RMSProp_optimizer(0.005, 20, 0.99)\n",
    "net.set_optimizer(optim)\n",
    "net.SGD(mnist_train, 10, 20, mnist_val, data_augmentation = aug,\n",
    "        monitor_test_acc = True)\n",
    "\n",
    "optim = RMSProp_optimizer(0.0025, 20, 0.99)\n",
    "net.set_optimizer(optim)\n",
    "net.SGD(mnist_train, 10, 20, mnist_val, data_augmentation = aug,\n",
    "        monitor_test_acc = True)\n",
    "\n",
    "optim = RMSProp_optimizer(0.00125, 20, 0.99)\n",
    "net.set_optimizer(optim)\n",
    "net.SGD(mnist_train, 10, 20, mnist_val, data_augmentation = aug,\n",
    "        monitor_test_acc = True)"
   ]
  },
  {
   "cell_type": "code",
   "execution_count": 19,
   "metadata": {},
   "outputs": [
    {
     "data": {
      "text/plain": [
       "9800.2"
      ]
     },
     "execution_count": 19,
     "metadata": {},
     "output_type": "execute_result"
    }
   ],
   "source": [
    "net.accuracy(mnist_train, convert=True) / 5"
   ]
  },
  {
   "cell_type": "code",
   "execution_count": 20,
   "metadata": {},
   "outputs": [],
   "source": [
    "net.save(\"../save/small_network.json\")"
   ]
  },
  {
   "cell_type": "code",
   "execution_count": 27,
   "metadata": {},
   "outputs": [
    {
     "data": {
      "text/plain": [
       "9690"
      ]
     },
     "execution_count": 27,
     "metadata": {},
     "output_type": "execute_result"
    }
   ],
   "source": [
    "other_net = modular_network.Network([\n",
    "    Flatten((28, 28)),\n",
    "    FullyConnected(28*28, 30, tanh(), reg),\n",
    "    FullyConnected(30, 30, tanh(), reg),\n",
    "    FullyConnected(30, 10, Softmax(), reg)\n",
    "])\n",
    "other_net.load(\"../save/small_network.json\")\n",
    "other_net.accuracy(mnist_val)"
   ]
  },
  {
   "cell_type": "code",
   "execution_count": 34,
   "metadata": {},
   "outputs": [],
   "source": [
    "larger_net = modular_network.Network([\n",
    "    Flatten((28, 28)),\n",
    "    FullyConnected(28*28, 100, tanh(), reg),\n",
    "    FullyConnected(100, 100, tanh(), reg),\n",
    "    FullyConnected(100, 10, Softmax(), reg)\n",
    "])\n",
    "\n",
    "larger_net.set_cost(cost)"
   ]
  },
  {
   "cell_type": "code",
   "execution_count": 35,
   "metadata": {},
   "outputs": [
    {
     "name": "stdout",
     "output_type": "stream",
     "text": [
      "Epoch 1 training complete, took 6.1636643409729 seconds\n",
      "Accuracy on test data: 9363 / 10000\n",
      "Epoch 2 training complete, took 6.192656755447388 seconds\n",
      "Accuracy on test data: 9553 / 10000\n",
      "Epoch 3 training complete, took 6.015908241271973 seconds\n",
      "Accuracy on test data: 9641 / 10000\n",
      "Epoch 4 training complete, took 5.948620080947876 seconds\n",
      "Accuracy on test data: 9699 / 10000\n",
      "Epoch 5 training complete, took 5.914887428283691 seconds\n",
      "Accuracy on test data: 9720 / 10000\n",
      "Epoch 6 training complete, took 5.8953492641448975 seconds\n",
      "Accuracy on test data: 9749 / 10000\n",
      "Epoch 7 training complete, took 5.812331676483154 seconds\n",
      "Accuracy on test data: 9740 / 10000\n",
      "Epoch 8 training complete, took 5.799737930297852 seconds\n",
      "Accuracy on test data: 9755 / 10000\n",
      "Epoch 9 training complete, took 5.8346734046936035 seconds\n",
      "Accuracy on test data: 9761 / 10000\n",
      "Epoch 10 training complete, took 5.816241502761841 seconds\n",
      "Accuracy on test data: 9763 / 10000\n",
      "Epoch 11 training complete, took 5.816525220870972 seconds\n",
      "Accuracy on test data: 9788 / 10000\n",
      "Epoch 12 training complete, took 7.175136089324951 seconds\n",
      "Accuracy on test data: 9779 / 10000\n",
      "Epoch 13 training complete, took 7.413604736328125 seconds\n",
      "Accuracy on test data: 9775 / 10000\n",
      "Epoch 14 training complete, took 7.716350078582764 seconds\n",
      "Accuracy on test data: 9790 / 10000\n",
      "Epoch 15 training complete, took 8.740613222122192 seconds\n",
      "Accuracy on test data: 9802 / 10000\n",
      "Epoch 1 training complete, took 9.690622329711914 seconds\n",
      "Accuracy on test data: 9806 / 10000\n",
      "Epoch 2 training complete, took 9.815167427062988 seconds\n",
      "Accuracy on test data: 9807 / 10000\n",
      "Epoch 3 training complete, took 9.849348783493042 seconds\n",
      "Accuracy on test data: 9811 / 10000\n",
      "Epoch 4 training complete, took 9.299680471420288 seconds\n",
      "Accuracy on test data: 9807 / 10000\n",
      "Epoch 5 training complete, took 9.682262897491455 seconds\n",
      "Accuracy on test data: 9813 / 10000\n",
      "Epoch 6 training complete, took 9.498484134674072 seconds\n",
      "Accuracy on test data: 9815 / 10000\n",
      "Epoch 7 training complete, took 9.502784729003906 seconds\n",
      "Accuracy on test data: 9811 / 10000\n",
      "Epoch 8 training complete, took 9.415635824203491 seconds\n",
      "Accuracy on test data: 9811 / 10000\n",
      "Epoch 9 training complete, took 9.36339282989502 seconds\n",
      "Accuracy on test data: 9807 / 10000\n",
      "Epoch 10 training complete, took 9.29277491569519 seconds\n",
      "Accuracy on test data: 9817 / 10000\n"
     ]
    },
    {
     "data": {
      "text/plain": [
       "{'training_acc': [],\n",
       " 'training_cost': [],\n",
       " 'test_acc': [9806, 9807, 9811, 9807, 9813, 9815, 9811, 9811, 9807, 9817],\n",
       " 'test_cost': []}"
      ]
     },
     "execution_count": 35,
     "metadata": {},
     "output_type": "execute_result"
    }
   ],
   "source": [
    "optim = RMSProp_optimizer(0.005, 20, 0.99)\n",
    "larger_net.set_optimizer(optim)\n",
    "larger_net.SGD(mnist_train, 15, 20, mnist_val, data_augmentation = aug,\n",
    "        monitor_test_acc = True)\n",
    "\n",
    "#optim = RMSProp_optimizer(0.0025, 20, 0.99)\n",
    "#larger_net.set_optimizer(optim)\n",
    "#larger_net.SGD(mnist_train, 10, 20, mnist_val, data_augmentation = aug,\n",
    "#        monitor_test_acc = True)\n",
    "\n",
    "optim = RMSProp_optimizer(0.00125, 20, 0.99)\n",
    "larger_net.set_optimizer(optim)\n",
    "larger_net.SGD(mnist_train, 10, 20, mnist_val, data_augmentation = aug,\n",
    "        monitor_test_acc = True)"
   ]
  },
  {
   "cell_type": "code",
   "execution_count": 36,
   "metadata": {},
   "outputs": [],
   "source": [
    "larger_net.save(\"../save/larger_network.json\")"
   ]
  },
  {
   "cell_type": "code",
   "execution_count": 37,
   "metadata": {},
   "outputs": [
    {
     "data": {
      "text/plain": [
       "9982.6"
      ]
     },
     "execution_count": 37,
     "metadata": {},
     "output_type": "execute_result"
    }
   ],
   "source": [
    "larger_net.accuracy(mnist_train, convert=True) / 5"
   ]
  },
  {
   "cell_type": "code",
   "execution_count": null,
   "metadata": {},
   "outputs": [],
   "source": []
  }
 ],
 "metadata": {
  "kernelspec": {
   "display_name": "Python 3",
   "language": "python",
   "name": "python3"
  },
  "language_info": {
   "codemirror_mode": {
    "name": "ipython",
    "version": 3
   },
   "file_extension": ".py",
   "mimetype": "text/x-python",
   "name": "python",
   "nbconvert_exporter": "python",
   "pygments_lexer": "ipython3",
   "version": "3.12.4"
  }
 },
 "nbformat": 4,
 "nbformat_minor": 2
}
