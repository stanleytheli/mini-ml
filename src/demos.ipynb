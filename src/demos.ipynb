{
 "cells": [
  {
   "cell_type": "markdown",
   "metadata": {},
   "source": [
    "## tanh vs. ReLU\n",
    "Let's compare how the tanh and ReLU activation functions perform on Fashion-MNIST. We'll make four networks, varying the size (784->30->30->10 or 784->100->100->10) and the inner layers' activation functions (tanh or ReLU)."
   ]
  },
  {
   "cell_type": "code",
   "execution_count": null,
   "metadata": {},
   "outputs": [],
   "source": [
    "from components import *\n",
    "from modular_network import Network\n",
    "import fashion_mnist_loader\n",
    "import matplotlib.pyplot as plt"
   ]
  },
  {
   "cell_type": "code",
   "execution_count": null,
   "metadata": {},
   "outputs": [],
   "source": [
    "# Load data\n",
    "fmnist_train, fmnist_val, fmnist_test = fashion_mnist_loader.load_data_wrapper(\"../data\")"
   ]
  },
  {
   "cell_type": "code",
   "execution_count": 141,
   "metadata": {},
   "outputs": [],
   "source": [
    "# After a little bit of experimenting, I don't think data augmentations \n",
    "# and regularizations help here. So we won't end up using these objects.\n",
    "translate = TranslationAug(-2, 2, -2, 2)\n",
    "noise = RandUniformAug(-0.2, 0.2)\n",
    "combined = CombinedAug([translate, noise])\n",
    "reg = L2Regularization(1.5 / 50000)"
   ]
  },
  {
   "cell_type": "code",
   "execution_count": null,
   "metadata": {},
   "outputs": [],
   "source": [
    "# Create a network\n",
    "tanh30net = Network([\n",
    "    Flatten((28, 28)),\n",
    "    FullyConnected(28*28, 30, tanh(), None),\n",
    "    FullyConnected(30, 30, tanh(), None),\n",
    "    FullyConnected(30, 10, Softmax(), None)\n",
    "])"
   ]
  },
  {
   "cell_type": "code",
   "execution_count": null,
   "metadata": {},
   "outputs": [
    {
     "name": "stdout",
     "output_type": "stream",
     "text": [
      "Epoch 1 training complete, took 1.5733869075775146 seconds\n",
      "Accuracy on test data: 8106 / 10000\n",
      "Epoch 2 training complete, took 2.0110530853271484 seconds\n",
      "Accuracy on test data: 8382 / 10000\n",
      "Epoch 3 training complete, took 1.9382691383361816 seconds\n",
      "Accuracy on test data: 8528 / 10000\n",
      "Epoch 4 training complete, took 2.0454516410827637 seconds\n",
      "Accuracy on test data: 8587 / 10000\n",
      "Epoch 5 training complete, took 1.8849163055419922 seconds\n",
      "Accuracy on test data: 8643 / 10000\n",
      "Epoch 6 training complete, took 2.1500091552734375 seconds\n",
      "Accuracy on test data: 8591 / 10000\n",
      "Epoch 7 training complete, took 1.9732606410980225 seconds\n",
      "Accuracy on test data: 8690 / 10000\n",
      "Epoch 8 training complete, took 2.057124376296997 seconds\n",
      "Accuracy on test data: 8688 / 10000\n",
      "Epoch 9 training complete, took 2.227485418319702 seconds\n",
      "Accuracy on test data: 8724 / 10000\n",
      "Epoch 10 training complete, took 2.2037229537963867 seconds\n",
      "Accuracy on test data: 8750 / 10000\n",
      "Epoch 11 training complete, took 2.316366195678711 seconds\n",
      "Accuracy on test data: 8740 / 10000\n",
      "Epoch 12 training complete, took 2.9564085006713867 seconds\n",
      "Accuracy on test data: 8737 / 10000\n",
      "Epoch 13 training complete, took 3.0259218215942383 seconds\n",
      "Accuracy on test data: 8783 / 10000\n",
      "Epoch 14 training complete, took 2.060343027114868 seconds\n",
      "Accuracy on test data: 8798 / 10000\n",
      "Epoch 15 training complete, took 2.3370018005371094 seconds\n",
      "Accuracy on test data: 8793 / 10000\n",
      "Epoch 1 training complete, took 2.2702624797821045 seconds\n",
      "Accuracy on test data: 8796 / 10000\n",
      "Epoch 2 training complete, took 2.0918397903442383 seconds\n",
      "Accuracy on test data: 8814 / 10000\n",
      "Epoch 3 training complete, took 2.224550247192383 seconds\n",
      "Accuracy on test data: 8814 / 10000\n",
      "Epoch 4 training complete, took 2.245102643966675 seconds\n",
      "Accuracy on test data: 8820 / 10000\n",
      "Epoch 5 training complete, took 2.065167188644409 seconds\n",
      "Accuracy on test data: 8820 / 10000\n"
     ]
    }
   ],
   "source": [
    "# Train our network\n",
    "# Note that the Network.train() method returns the training stats, so we can store it in a variable\n",
    "tanh30net.set_cost(BinaryCrossEntropyCost())\n",
    "tanh30net.set_optimizer(Adam_optimizer(0.005, 20, 0.99, 0.999))\n",
    "tanh30stats_1 = tanh30net.train(fmnist_train, 15, 20, fmnist_val, monitor_test_acc=True)\n",
    "tanh30net.set_optimizer(Adam_optimizer(0.001, 20, 0.99, 0.999))\n",
    "tanh30stats_2 = tanh30net.train(fmnist_train, 5, 20, fmnist_val, monitor_test_acc=True)"
   ]
  },
  {
   "cell_type": "code",
   "execution_count": 123,
   "metadata": {},
   "outputs": [],
   "source": [
    "relu30net = Network([\n",
    "    Flatten((28, 28)),\n",
    "    FullyConnected(28*28, 30, ReLU(), None),\n",
    "    FullyConnected(30, 30, ReLU(), None),\n",
    "    FullyConnected(30, 10, Softmax(), None)\n",
    "])"
   ]
  },
  {
   "cell_type": "code",
   "execution_count": 124,
   "metadata": {},
   "outputs": [
    {
     "name": "stdout",
     "output_type": "stream",
     "text": [
      "Epoch 1 training complete, took 1.1341114044189453 seconds\n",
      "Accuracy on test data: 8062 / 10000\n",
      "Epoch 2 training complete, took 1.2802395820617676 seconds\n",
      "Accuracy on test data: 8297 / 10000\n",
      "Epoch 3 training complete, took 1.5921385288238525 seconds\n",
      "Accuracy on test data: 8432 / 10000\n",
      "Epoch 4 training complete, took 1.622488260269165 seconds\n",
      "Accuracy on test data: 8494 / 10000\n",
      "Epoch 5 training complete, took 1.8078608512878418 seconds\n",
      "Accuracy on test data: 8538 / 10000\n",
      "Epoch 6 training complete, took 1.6279704570770264 seconds\n",
      "Accuracy on test data: 8550 / 10000\n",
      "Epoch 7 training complete, took 1.8946142196655273 seconds\n",
      "Accuracy on test data: 8569 / 10000\n",
      "Epoch 8 training complete, took 1.6430323123931885 seconds\n",
      "Accuracy on test data: 8574 / 10000\n",
      "Epoch 9 training complete, took 1.7282650470733643 seconds\n",
      "Accuracy on test data: 8646 / 10000\n",
      "Epoch 10 training complete, took 1.880359411239624 seconds\n",
      "Accuracy on test data: 8653 / 10000\n",
      "Epoch 11 training complete, took 1.668177843093872 seconds\n",
      "Accuracy on test data: 8665 / 10000\n",
      "Epoch 12 training complete, took 1.8718175888061523 seconds\n",
      "Accuracy on test data: 8679 / 10000\n",
      "Epoch 13 training complete, took 1.6503634452819824 seconds\n",
      "Accuracy on test data: 8636 / 10000\n",
      "Epoch 14 training complete, took 1.7046942710876465 seconds\n",
      "Accuracy on test data: 8664 / 10000\n",
      "Epoch 15 training complete, took 1.6846213340759277 seconds\n",
      "Accuracy on test data: 8673 / 10000\n",
      "Epoch 1 training complete, took 1.6862528324127197 seconds\n",
      "Accuracy on test data: 8717 / 10000\n",
      "Epoch 2 training complete, took 2.1446707248687744 seconds\n",
      "Accuracy on test data: 8719 / 10000\n",
      "Epoch 3 training complete, took 1.597203254699707 seconds\n",
      "Accuracy on test data: 8726 / 10000\n",
      "Epoch 4 training complete, took 1.6702656745910645 seconds\n",
      "Accuracy on test data: 8706 / 10000\n",
      "Epoch 5 training complete, took 1.72220778465271 seconds\n",
      "Accuracy on test data: 8703 / 10000\n"
     ]
    }
   ],
   "source": [
    "relu30net.set_cost(BinaryCrossEntropyCost())\n",
    "relu30net.set_optimizer(Adam_optimizer(0.005, 20, 0.99, 0.999))\n",
    "relu30stats_1 = relu30net.train(fmnist_train, 15, 20, fmnist_val, monitor_test_acc=True)\n",
    "relu30net.set_optimizer(Adam_optimizer(0.001, 20, 0.99, 0.999))\n",
    "relu30stats_2 = relu30net.train(fmnist_train, 5, 20, fmnist_val, monitor_test_acc=True)"
   ]
  },
  {
   "cell_type": "code",
   "execution_count": 125,
   "metadata": {},
   "outputs": [],
   "source": [
    "tanh100net = Network([\n",
    "    Flatten((28, 28)),\n",
    "    FullyConnected(28*28, 100, tanh(), None),\n",
    "    FullyConnected(100, 100, tanh(), None),\n",
    "    FullyConnected(100, 10, Softmax(), None)\n",
    "])"
   ]
  },
  {
   "cell_type": "code",
   "execution_count": 126,
   "metadata": {},
   "outputs": [
    {
     "name": "stdout",
     "output_type": "stream",
     "text": [
      "Epoch 1 training complete, took 6.294819355010986 seconds\n",
      "Accuracy on test data: 8443 / 10000\n",
      "Epoch 2 training complete, took 7.065088510513306 seconds\n",
      "Accuracy on test data: 8541 / 10000\n",
      "Epoch 3 training complete, took 8.541807651519775 seconds\n",
      "Accuracy on test data: 8735 / 10000\n",
      "Epoch 4 training complete, took 8.160168170928955 seconds\n",
      "Accuracy on test data: 8731 / 10000\n",
      "Epoch 5 training complete, took 8.653072357177734 seconds\n",
      "Accuracy on test data: 8800 / 10000\n",
      "Epoch 6 training complete, took 9.160202026367188 seconds\n",
      "Accuracy on test data: 8792 / 10000\n",
      "Epoch 7 training complete, took 9.286397457122803 seconds\n",
      "Accuracy on test data: 8842 / 10000\n",
      "Epoch 8 training complete, took 9.17040753364563 seconds\n",
      "Accuracy on test data: 8838 / 10000\n",
      "Epoch 9 training complete, took 9.168588399887085 seconds\n",
      "Accuracy on test data: 8868 / 10000\n",
      "Epoch 10 training complete, took 9.302975177764893 seconds\n",
      "Accuracy on test data: 8882 / 10000\n",
      "Epoch 11 training complete, took 8.821354150772095 seconds\n",
      "Accuracy on test data: 8854 / 10000\n",
      "Epoch 12 training complete, took 11.316061019897461 seconds\n",
      "Accuracy on test data: 8870 / 10000\n",
      "Epoch 13 training complete, took 8.693650007247925 seconds\n",
      "Accuracy on test data: 8930 / 10000\n",
      "Epoch 14 training complete, took 9.003478050231934 seconds\n",
      "Accuracy on test data: 8878 / 10000\n",
      "Epoch 15 training complete, took 8.913087844848633 seconds\n",
      "Accuracy on test data: 8943 / 10000\n",
      "Epoch 1 training complete, took 8.299497842788696 seconds\n",
      "Accuracy on test data: 8969 / 10000\n",
      "Epoch 2 training complete, took 8.333777904510498 seconds\n",
      "Accuracy on test data: 8932 / 10000\n",
      "Epoch 3 training complete, took 10.466552734375 seconds\n",
      "Accuracy on test data: 8940 / 10000\n",
      "Epoch 4 training complete, took 10.237133979797363 seconds\n",
      "Accuracy on test data: 8973 / 10000\n",
      "Epoch 5 training complete, took 9.814661264419556 seconds\n",
      "Accuracy on test data: 8924 / 10000\n"
     ]
    }
   ],
   "source": [
    "tanh100net.set_cost(BinaryCrossEntropyCost())\n",
    "tanh100net.set_optimizer(Adam_optimizer(0.005, 20, 0.99, 0.999))\n",
    "tanh100stats_1 = tanh100net.train(fmnist_train, 15, 20, fmnist_val, monitor_test_acc=True)\n",
    "tanh100net.set_optimizer(Adam_optimizer(0.001, 20, 0.99, 0.999))\n",
    "tanh100stats_2 = tanh100net.train(fmnist_train, 5, 20, fmnist_val, monitor_test_acc=True)"
   ]
  },
  {
   "cell_type": "code",
   "execution_count": 127,
   "metadata": {},
   "outputs": [],
   "source": [
    "relu100net = Network([\n",
    "    Flatten((28, 28)),\n",
    "    FullyConnected(28*28, 100, ReLU(), None),\n",
    "    FullyConnected(100, 100, ReLU(), None),\n",
    "    FullyConnected(100, 10, Softmax(), None)\n",
    "])"
   ]
  },
  {
   "cell_type": "code",
   "execution_count": 128,
   "metadata": {},
   "outputs": [
    {
     "name": "stdout",
     "output_type": "stream",
     "text": [
      "Epoch 1 training complete, took 8.16566276550293 seconds\n",
      "Accuracy on test data: 8394 / 10000\n",
      "Epoch 2 training complete, took 7.296437501907349 seconds\n",
      "Accuracy on test data: 8564 / 10000\n",
      "Epoch 3 training complete, took 8.752745389938354 seconds\n",
      "Accuracy on test data: 8658 / 10000\n",
      "Epoch 4 training complete, took 8.778499603271484 seconds\n",
      "Accuracy on test data: 8652 / 10000\n",
      "Epoch 5 training complete, took 8.600139856338501 seconds\n",
      "Accuracy on test data: 8703 / 10000\n",
      "Epoch 6 training complete, took 8.061446905136108 seconds\n",
      "Accuracy on test data: 8715 / 10000\n",
      "Epoch 7 training complete, took 8.810863733291626 seconds\n",
      "Accuracy on test data: 8757 / 10000\n",
      "Epoch 8 training complete, took 8.397691011428833 seconds\n",
      "Accuracy on test data: 8797 / 10000\n",
      "Epoch 9 training complete, took 10.108367443084717 seconds\n",
      "Accuracy on test data: 8843 / 10000\n",
      "Epoch 10 training complete, took 10.79500150680542 seconds\n",
      "Accuracy on test data: 8790 / 10000\n",
      "Epoch 11 training complete, took 11.565879106521606 seconds\n",
      "Accuracy on test data: 8845 / 10000\n",
      "Epoch 12 training complete, took 10.491304636001587 seconds\n",
      "Accuracy on test data: 8861 / 10000\n",
      "Epoch 13 training complete, took 10.739911794662476 seconds\n",
      "Accuracy on test data: 8837 / 10000\n",
      "Epoch 14 training complete, took 10.709079265594482 seconds\n",
      "Accuracy on test data: 8854 / 10000\n",
      "Epoch 15 training complete, took 10.493513584136963 seconds\n",
      "Accuracy on test data: 8853 / 10000\n",
      "Epoch 1 training complete, took 11.915907859802246 seconds\n",
      "Accuracy on test data: 8912 / 10000\n",
      "Epoch 2 training complete, took 14.389541149139404 seconds\n",
      "Accuracy on test data: 8947 / 10000\n",
      "Epoch 3 training complete, took 9.64241337776184 seconds\n",
      "Accuracy on test data: 8932 / 10000\n",
      "Epoch 4 training complete, took 9.264911651611328 seconds\n",
      "Accuracy on test data: 8951 / 10000\n",
      "Epoch 5 training complete, took 9.13591480255127 seconds\n",
      "Accuracy on test data: 8937 / 10000\n"
     ]
    }
   ],
   "source": [
    "relu100net.set_cost(BinaryCrossEntropyCost())\n",
    "relu100net.set_optimizer(Adam_optimizer(0.005, 20, 0.99, 0.999))\n",
    "relu100stats_1 = relu100net.train(fmnist_train, 15, 20, fmnist_val, monitor_test_acc=True)\n",
    "relu100net.set_optimizer(Adam_optimizer(0.001, 20, 0.99, 0.999))\n",
    "relu100stats_2 = relu100net.train(fmnist_train, 5, 20, fmnist_val, monitor_test_acc=True)"
   ]
  },
  {
   "cell_type": "markdown",
   "metadata": {},
   "source": [
    "## Results"
   ]
  },
  {
   "cell_type": "markdown",
   "metadata": {},
   "source": [
    "Since we saved our training statistics, we can plot the accuracy vs. the epoch. We could also plot against elapsed training time, but since the activation function choice didn't seem to impact training time too much, we'll just plot against epoch."
   ]
  },
  {
   "cell_type": "code",
   "execution_count": 143,
   "metadata": {},
   "outputs": [
    {
     "data": {
      "text/plain": [
       "<matplotlib.legend.Legend at 0x1f9dc2ca780>"
      ]
     },
     "execution_count": 143,
     "metadata": {},
     "output_type": "execute_result"
    },
    {
     "data": {
      "image/png": "[encoded data removed]",
      "text/plain": [
       "<Figure size 640x480 with 1 Axes>"
      ]
     },
     "metadata": {},
     "output_type": "display_data"
    }
   ],
   "source": [
    "plt.xlabel(\"Epoch\")\n",
    "plt.ylabel(\"Validation Accuracy\")\n",
    "plt.plot(tanh100stats_1[\"test_acc\"] + tanh100stats_2[\"test_acc\"], label=\"tanh 100\")\n",
    "plt.plot(relu100stats_1[\"test_acc\"] + relu100stats_2[\"test_acc\"], label=\"ReLU 100\")\n",
    "plt.plot(tanh30stats_1[\"test_acc\"] + tanh30stats_2[\"test_acc\"], label=\"tanh 30\")\n",
    "plt.plot(relu30stats_1[\"test_acc\"] + relu30stats_2[\"test_acc\"], label=\"ReLU 30\")\n",
    "plt.legend()"
   ]
  },
  {
   "cell_type": "markdown",
   "metadata": {},
   "source": [
    "Thus concludes our experiment. Overall, it seems like tanh() performs better than ReLU() for the majority of training time, but the 100x100 networks' results are much closer."
   ]
  }
 ],
 "metadata": {
  "kernelspec": {
   "display_name": "Python 3",
   "language": "python",
   "name": "python3"
  },
  "language_info": {
   "codemirror_mode": {
    "name": "ipython",
    "version": 3
   },
   "file_extension": ".py",
   "mimetype": "text/x-python",
   "name": "python",
   "nbconvert_exporter": "python",
   "pygments_lexer": "ipython3",
   "version": "3.12.4"
  }
 },
 "nbformat": 4,
 "nbformat_minor": 2
}
